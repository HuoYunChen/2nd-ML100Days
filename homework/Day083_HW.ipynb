{
 "cells": [
  {
   "cell_type": "markdown",
   "metadata": {},
   "source": [
    "## Work\n",
    "1. 試比較有 BN 在 Batch_size = 2, 16, 32, 128, 256 下的差異\n",
    "2. 請嘗試將 BN 放在 Activation 之前，並比較訓練結果\n",
    "3. 請於 BN 放在 Input Layer 後，並比較結果"
   ]
  },
  {
   "cell_type": "code",
   "execution_count": 2,
   "metadata": {},
   "outputs": [
    {
     "name": "stderr",
     "output_type": "stream",
     "text": [
      "Using TensorFlow backend.\n"
     ]
    }
   ],
   "source": [
    "import os\n",
    "import keras\n",
    "import itertools\n",
    "# Disable GPU\n",
    "os.environ[\"CUDA_VISIBLE_DEVICES\"] = \"\""
   ]
  },
  {
   "cell_type": "code",
   "execution_count": 3,
   "metadata": {},
   "outputs": [],
   "source": [
    "train, test = keras.datasets.cifar10.load_data()"
   ]
  },
  {
   "cell_type": "code",
   "execution_count": 4,
   "metadata": {},
   "outputs": [],
   "source": [
    "## 資料前處理\n",
    "def preproc_x(x, flatten=True):\n",
    "    x = x / 255.\n",
    "    if flatten:\n",
    "        x = x.reshape((len(x), -1))\n",
    "    return x\n",
    "\n",
    "def preproc_y(y, num_classes=10):\n",
    "    if y.shape[-1] == 1:\n",
    "        y = keras.utils.to_categorical(y, num_classes)\n",
    "    return y    "
   ]
  },
  {
   "cell_type": "code",
   "execution_count": 5,
   "metadata": {},
   "outputs": [],
   "source": [
    "x_train, y_train = train\n",
    "x_test, y_test = test\n",
    "\n",
    "# Preproc the inputs\n",
    "x_train = preproc_x(x_train)\n",
    "x_test = preproc_x(x_test)\n",
    "\n",
    "# Preprc the outputs\n",
    "y_train = preproc_y(y_train)\n",
    "y_test = preproc_y(y_test)"
   ]
  },
  {
   "cell_type": "code",
   "execution_count": 6,
   "metadata": {},
   "outputs": [],
   "source": [
    "from keras.layers import BatchNormalization\n",
    "\n",
    "def build_mlp(input_shape, output_units=10, num_neurons=[512, 256, 128]):\n",
    "    input_layer = keras.layers.Input(input_shape)\n",
    "    \n",
    "    for i, n_units in enumerate(num_neurons):\n",
    "        if i == 0:\n",
    "            x = keras.layers.Dense(units=n_units, \n",
    "                                   activation=\"relu\", \n",
    "                                   name=\"hidden_layer\"+str(i+1))(input_layer)\n",
    "            x = BatchNormalization()(x)\n",
    "        else:\n",
    "            x = keras.layers.Dense(units=n_units, \n",
    "                                   activation=\"relu\", \n",
    "                                   name=\"hidden_layer\"+str(i+1))(x)\n",
    "            x = BatchNormalization()(x)\n",
    "    \n",
    "    out = keras.layers.Dense(units=output_units, activation=\"softmax\", name=\"output\")(x)\n",
    "    \n",
    "    model = keras.models.Model(inputs=[input_layer], outputs=[out])\n",
    "    return model"
   ]
  },
  {
   "cell_type": "code",
   "execution_count": 6,
   "metadata": {},
   "outputs": [],
   "source": [
    "\"\"\"Code Here\n",
    "設定超參數\n",
    "\"\"\"\n",
    "LEARNING_RATE = 1e-3\n",
    "EPOCHS = 30\n",
    "BATCH_SIZE = [2, 16, 32, 128, 256 ]\n",
    "MOMENTUM = 0.95"
   ]
  },
  {
   "cell_type": "code",
   "execution_count": 7,
   "metadata": {
    "scrolled": true
   },
   "outputs": [
    {
     "name": "stderr",
     "output_type": "stream",
     "text": [
      "WARNING: Logging before flag parsing goes to stderr.\n",
      "W0722 23:23:24.221269 28628 deprecation_wrapper.py:119] From C:\\Users\\user1\\Anaconda3\\lib\\site-packages\\keras\\backend\\tensorflow_backend.py:74: The name tf.get_default_graph is deprecated. Please use tf.compat.v1.get_default_graph instead.\n",
      "\n",
      "W0722 23:23:24.235270 28628 deprecation_wrapper.py:119] From C:\\Users\\user1\\Anaconda3\\lib\\site-packages\\keras\\backend\\tensorflow_backend.py:517: The name tf.placeholder is deprecated. Please use tf.compat.v1.placeholder instead.\n",
      "\n",
      "W0722 23:23:24.237269 28628 deprecation_wrapper.py:119] From C:\\Users\\user1\\Anaconda3\\lib\\site-packages\\keras\\backend\\tensorflow_backend.py:4138: The name tf.random_uniform is deprecated. Please use tf.random.uniform instead.\n",
      "\n",
      "W0722 23:23:24.313267 28628 deprecation_wrapper.py:119] From C:\\Users\\user1\\Anaconda3\\lib\\site-packages\\keras\\backend\\tensorflow_backend.py:133: The name tf.placeholder_with_default is deprecated. Please use tf.compat.v1.placeholder_with_default instead.\n",
      "\n",
      "W0722 23:23:24.531301 28628 deprecation_wrapper.py:119] From C:\\Users\\user1\\Anaconda3\\lib\\site-packages\\keras\\optimizers.py:790: The name tf.train.Optimizer is deprecated. Please use tf.compat.v1.train.Optimizer instead.\n",
      "\n",
      "W0722 23:23:24.538269 28628 deprecation_wrapper.py:119] From C:\\Users\\user1\\Anaconda3\\lib\\site-packages\\keras\\backend\\tensorflow_backend.py:3295: The name tf.log is deprecated. Please use tf.math.log instead.\n",
      "\n",
      "W0722 23:23:24.618301 28628 deprecation.py:323] From C:\\Users\\user1\\Anaconda3\\lib\\site-packages\\tensorflow\\python\\ops\\math_grad.py:1250: add_dispatch_support.<locals>.wrapper (from tensorflow.python.ops.array_ops) is deprecated and will be removed in a future version.\n",
      "Instructions for updating:\n",
      "Use tf.where in 2.0, which has the same broadcast rule as np.where\n"
     ]
    },
    {
     "name": "stdout",
     "output_type": "stream",
     "text": [
      "_________________________________________________________________\n",
      "Layer (type)                 Output Shape              Param #   \n",
      "=================================================================\n",
      "input_1 (InputLayer)         (None, 3072)              0         \n",
      "_________________________________________________________________\n",
      "hidden_layer1 (Dense)        (None, 512)               1573376   \n",
      "_________________________________________________________________\n",
      "batch_normalization_1 (Batch (None, 512)               2048      \n",
      "_________________________________________________________________\n",
      "hidden_layer2 (Dense)        (None, 256)               131328    \n",
      "_________________________________________________________________\n",
      "batch_normalization_2 (Batch (None, 256)               1024      \n",
      "_________________________________________________________________\n",
      "hidden_layer3 (Dense)        (None, 128)               32896     \n",
      "_________________________________________________________________\n",
      "batch_normalization_3 (Batch (None, 128)               512       \n",
      "_________________________________________________________________\n",
      "output (Dense)               (None, 10)                1290      \n",
      "=================================================================\n",
      "Total params: 1,742,474\n",
      "Trainable params: 1,740,682\n",
      "Non-trainable params: 1,792\n",
      "_________________________________________________________________\n",
      "Train on 50000 samples, validate on 10000 samples\n",
      "Epoch 1/30\n",
      " 5720/50000 [==>...........................] - ETA: 4:37 - loss: 2.4993 - acc: 0.1143"
     ]
    },
    {
     "ename": "KeyboardInterrupt",
     "evalue": "",
     "output_type": "error",
     "traceback": [
      "\u001b[1;31m---------------------------------------------------------------------------\u001b[0m",
      "\u001b[1;31mKeyboardInterrupt\u001b[0m                         Traceback (most recent call last)",
      "\u001b[1;32m<ipython-input-7-6332402685fa>\u001b[0m in \u001b[0;36m<module>\u001b[1;34m\u001b[0m\n\u001b[0;32m     13\u001b[0m           \u001b[0mbatch_size\u001b[0m\u001b[1;33m=\u001b[0m\u001b[0mbatch\u001b[0m\u001b[1;33m,\u001b[0m\u001b[1;33m\u001b[0m\u001b[1;33m\u001b[0m\u001b[0m\n\u001b[0;32m     14\u001b[0m           \u001b[0mvalidation_data\u001b[0m\u001b[1;33m=\u001b[0m\u001b[1;33m(\u001b[0m\u001b[0mx_test\u001b[0m\u001b[1;33m,\u001b[0m \u001b[0my_test\u001b[0m\u001b[1;33m)\u001b[0m\u001b[1;33m,\u001b[0m\u001b[1;33m\u001b[0m\u001b[1;33m\u001b[0m\u001b[0m\n\u001b[1;32m---> 15\u001b[1;33m           shuffle=True)\n\u001b[0m\u001b[0;32m     16\u001b[0m \u001b[1;33m\u001b[0m\u001b[0m\n\u001b[0;32m     17\u001b[0m     \u001b[1;31m# Collect results\u001b[0m\u001b[1;33m\u001b[0m\u001b[1;33m\u001b[0m\u001b[1;33m\u001b[0m\u001b[0m\n",
      "\u001b[1;32m~\\Anaconda3\\lib\\site-packages\\keras\\engine\\training.py\u001b[0m in \u001b[0;36mfit\u001b[1;34m(self, x, y, batch_size, epochs, verbose, callbacks, validation_split, validation_data, shuffle, class_weight, sample_weight, initial_epoch, steps_per_epoch, validation_steps, **kwargs)\u001b[0m\n\u001b[0;32m   1037\u001b[0m                                         \u001b[0minitial_epoch\u001b[0m\u001b[1;33m=\u001b[0m\u001b[0minitial_epoch\u001b[0m\u001b[1;33m,\u001b[0m\u001b[1;33m\u001b[0m\u001b[1;33m\u001b[0m\u001b[0m\n\u001b[0;32m   1038\u001b[0m                                         \u001b[0msteps_per_epoch\u001b[0m\u001b[1;33m=\u001b[0m\u001b[0msteps_per_epoch\u001b[0m\u001b[1;33m,\u001b[0m\u001b[1;33m\u001b[0m\u001b[1;33m\u001b[0m\u001b[0m\n\u001b[1;32m-> 1039\u001b[1;33m                                         validation_steps=validation_steps)\n\u001b[0m\u001b[0;32m   1040\u001b[0m \u001b[1;33m\u001b[0m\u001b[0m\n\u001b[0;32m   1041\u001b[0m     def evaluate(self, x=None, y=None,\n",
      "\u001b[1;32m~\\Anaconda3\\lib\\site-packages\\keras\\engine\\training_arrays.py\u001b[0m in \u001b[0;36mfit_loop\u001b[1;34m(model, f, ins, out_labels, batch_size, epochs, verbose, callbacks, val_f, val_ins, shuffle, callback_metrics, initial_epoch, steps_per_epoch, validation_steps)\u001b[0m\n\u001b[0;32m    197\u001b[0m                     \u001b[0mins_batch\u001b[0m\u001b[1;33m[\u001b[0m\u001b[0mi\u001b[0m\u001b[1;33m]\u001b[0m \u001b[1;33m=\u001b[0m \u001b[0mins_batch\u001b[0m\u001b[1;33m[\u001b[0m\u001b[0mi\u001b[0m\u001b[1;33m]\u001b[0m\u001b[1;33m.\u001b[0m\u001b[0mtoarray\u001b[0m\u001b[1;33m(\u001b[0m\u001b[1;33m)\u001b[0m\u001b[1;33m\u001b[0m\u001b[1;33m\u001b[0m\u001b[0m\n\u001b[0;32m    198\u001b[0m \u001b[1;33m\u001b[0m\u001b[0m\n\u001b[1;32m--> 199\u001b[1;33m                 \u001b[0mouts\u001b[0m \u001b[1;33m=\u001b[0m \u001b[0mf\u001b[0m\u001b[1;33m(\u001b[0m\u001b[0mins_batch\u001b[0m\u001b[1;33m)\u001b[0m\u001b[1;33m\u001b[0m\u001b[1;33m\u001b[0m\u001b[0m\n\u001b[0m\u001b[0;32m    200\u001b[0m                 \u001b[0mouts\u001b[0m \u001b[1;33m=\u001b[0m \u001b[0mto_list\u001b[0m\u001b[1;33m(\u001b[0m\u001b[0mouts\u001b[0m\u001b[1;33m)\u001b[0m\u001b[1;33m\u001b[0m\u001b[1;33m\u001b[0m\u001b[0m\n\u001b[0;32m    201\u001b[0m                 \u001b[1;32mfor\u001b[0m \u001b[0ml\u001b[0m\u001b[1;33m,\u001b[0m \u001b[0mo\u001b[0m \u001b[1;32min\u001b[0m \u001b[0mzip\u001b[0m\u001b[1;33m(\u001b[0m\u001b[0mout_labels\u001b[0m\u001b[1;33m,\u001b[0m \u001b[0mouts\u001b[0m\u001b[1;33m)\u001b[0m\u001b[1;33m:\u001b[0m\u001b[1;33m\u001b[0m\u001b[1;33m\u001b[0m\u001b[0m\n",
      "\u001b[1;32m~\\Anaconda3\\lib\\site-packages\\keras\\backend\\tensorflow_backend.py\u001b[0m in \u001b[0;36m__call__\u001b[1;34m(self, inputs)\u001b[0m\n\u001b[0;32m   2713\u001b[0m                 \u001b[1;32mreturn\u001b[0m \u001b[0mself\u001b[0m\u001b[1;33m.\u001b[0m\u001b[0m_legacy_call\u001b[0m\u001b[1;33m(\u001b[0m\u001b[0minputs\u001b[0m\u001b[1;33m)\u001b[0m\u001b[1;33m\u001b[0m\u001b[1;33m\u001b[0m\u001b[0m\n\u001b[0;32m   2714\u001b[0m \u001b[1;33m\u001b[0m\u001b[0m\n\u001b[1;32m-> 2715\u001b[1;33m             \u001b[1;32mreturn\u001b[0m \u001b[0mself\u001b[0m\u001b[1;33m.\u001b[0m\u001b[0m_call\u001b[0m\u001b[1;33m(\u001b[0m\u001b[0minputs\u001b[0m\u001b[1;33m)\u001b[0m\u001b[1;33m\u001b[0m\u001b[1;33m\u001b[0m\u001b[0m\n\u001b[0m\u001b[0;32m   2716\u001b[0m         \u001b[1;32melse\u001b[0m\u001b[1;33m:\u001b[0m\u001b[1;33m\u001b[0m\u001b[1;33m\u001b[0m\u001b[0m\n\u001b[0;32m   2717\u001b[0m             \u001b[1;32mif\u001b[0m \u001b[0mpy_any\u001b[0m\u001b[1;33m(\u001b[0m\u001b[0mis_tensor\u001b[0m\u001b[1;33m(\u001b[0m\u001b[0mx\u001b[0m\u001b[1;33m)\u001b[0m \u001b[1;32mfor\u001b[0m \u001b[0mx\u001b[0m \u001b[1;32min\u001b[0m \u001b[0minputs\u001b[0m\u001b[1;33m)\u001b[0m\u001b[1;33m:\u001b[0m\u001b[1;33m\u001b[0m\u001b[1;33m\u001b[0m\u001b[0m\n",
      "\u001b[1;32m~\\Anaconda3\\lib\\site-packages\\keras\\backend\\tensorflow_backend.py\u001b[0m in \u001b[0;36m_call\u001b[1;34m(self, inputs)\u001b[0m\n\u001b[0;32m   2673\u001b[0m             \u001b[0mfetched\u001b[0m \u001b[1;33m=\u001b[0m \u001b[0mself\u001b[0m\u001b[1;33m.\u001b[0m\u001b[0m_callable_fn\u001b[0m\u001b[1;33m(\u001b[0m\u001b[1;33m*\u001b[0m\u001b[0marray_vals\u001b[0m\u001b[1;33m,\u001b[0m \u001b[0mrun_metadata\u001b[0m\u001b[1;33m=\u001b[0m\u001b[0mself\u001b[0m\u001b[1;33m.\u001b[0m\u001b[0mrun_metadata\u001b[0m\u001b[1;33m)\u001b[0m\u001b[1;33m\u001b[0m\u001b[1;33m\u001b[0m\u001b[0m\n\u001b[0;32m   2674\u001b[0m         \u001b[1;32melse\u001b[0m\u001b[1;33m:\u001b[0m\u001b[1;33m\u001b[0m\u001b[1;33m\u001b[0m\u001b[0m\n\u001b[1;32m-> 2675\u001b[1;33m             \u001b[0mfetched\u001b[0m \u001b[1;33m=\u001b[0m \u001b[0mself\u001b[0m\u001b[1;33m.\u001b[0m\u001b[0m_callable_fn\u001b[0m\u001b[1;33m(\u001b[0m\u001b[1;33m*\u001b[0m\u001b[0marray_vals\u001b[0m\u001b[1;33m)\u001b[0m\u001b[1;33m\u001b[0m\u001b[1;33m\u001b[0m\u001b[0m\n\u001b[0m\u001b[0;32m   2676\u001b[0m         \u001b[1;32mreturn\u001b[0m \u001b[0mfetched\u001b[0m\u001b[1;33m[\u001b[0m\u001b[1;33m:\u001b[0m\u001b[0mlen\u001b[0m\u001b[1;33m(\u001b[0m\u001b[0mself\u001b[0m\u001b[1;33m.\u001b[0m\u001b[0moutputs\u001b[0m\u001b[1;33m)\u001b[0m\u001b[1;33m]\u001b[0m\u001b[1;33m\u001b[0m\u001b[1;33m\u001b[0m\u001b[0m\n\u001b[0;32m   2677\u001b[0m \u001b[1;33m\u001b[0m\u001b[0m\n",
      "\u001b[1;32m~\\Anaconda3\\lib\\site-packages\\tensorflow\\python\\client\\session.py\u001b[0m in \u001b[0;36m__call__\u001b[1;34m(self, *args, **kwargs)\u001b[0m\n\u001b[0;32m   1456\u001b[0m         ret = tf_session.TF_SessionRunCallable(self._session._session,\n\u001b[0;32m   1457\u001b[0m                                                \u001b[0mself\u001b[0m\u001b[1;33m.\u001b[0m\u001b[0m_handle\u001b[0m\u001b[1;33m,\u001b[0m \u001b[0margs\u001b[0m\u001b[1;33m,\u001b[0m\u001b[1;33m\u001b[0m\u001b[1;33m\u001b[0m\u001b[0m\n\u001b[1;32m-> 1458\u001b[1;33m                                                run_metadata_ptr)\n\u001b[0m\u001b[0;32m   1459\u001b[0m         \u001b[1;32mif\u001b[0m \u001b[0mrun_metadata\u001b[0m\u001b[1;33m:\u001b[0m\u001b[1;33m\u001b[0m\u001b[1;33m\u001b[0m\u001b[0m\n\u001b[0;32m   1460\u001b[0m           \u001b[0mproto_data\u001b[0m \u001b[1;33m=\u001b[0m \u001b[0mtf_session\u001b[0m\u001b[1;33m.\u001b[0m\u001b[0mTF_GetBuffer\u001b[0m\u001b[1;33m(\u001b[0m\u001b[0mrun_metadata_ptr\u001b[0m\u001b[1;33m)\u001b[0m\u001b[1;33m\u001b[0m\u001b[1;33m\u001b[0m\u001b[0m\n",
      "\u001b[1;31mKeyboardInterrupt\u001b[0m: "
     ]
    }
   ],
   "source": [
    "results = {}\n",
    "\"\"\"Code Here\n",
    "撰寫你的訓練流程並將結果用 dictionary 紀錄\n",
    "\"\"\"\n",
    "model = build_mlp(input_shape=x_train.shape[1:])\n",
    "model.summary()\n",
    "optimizer = keras.optimizers.SGD(lr=LEARNING_RATE, nesterov=True, momentum=MOMENTUM)\n",
    "model.compile(loss=\"categorical_crossentropy\", metrics=[\"accuracy\"], optimizer=optimizer)\n",
    "\n",
    "for batch in BATCH_SIZE:\n",
    "    model.fit(x_train, y_train, \n",
    "          epochs=EPOCHS, \n",
    "          batch_size=batch, \n",
    "          validation_data=(x_test, y_test), \n",
    "          shuffle=True)\n",
    "\n",
    "    # Collect results\n",
    "    train_loss = model.history.history[\"loss\"]\n",
    "    valid_loss = model.history.history[\"val_loss\"]\n",
    "    train_acc = model.history.history[\"acc\"]\n",
    "    valid_acc = model.history.history[\"val_acc\"]\n",
    "    \n",
    "    results['batch:'+ str(batch)] = {\n",
    "        'train_loss':train_loss,\n",
    "        'valid_loss':valid_loss,\n",
    "        'train_acc':train_acc,\n",
    "        'valid_acc':valid_acc\n",
    "    }"
   ]
  },
  {
   "cell_type": "code",
   "execution_count": 7,
   "metadata": {},
   "outputs": [],
   "source": [
    "import matplotlib.pyplot as plt\n",
    "%matplotlib inline\n",
    "\"\"\"Code Here\n",
    "將結果繪出\n",
    "\"\"\"\n",
    "def show_history(history):\n",
    "    for key, cond in enumerate(history.keys()):        \n",
    "        plt.plot(range(len(history[cond]['train_loss'])), history[cond]['train_loss'], label='train_' + cond)\n",
    "        plt.plot(range(len(history[cond]['valid_loss'])), history[cond]['valid_loss'], '--',label='valid_' + cond)\n",
    "    plt.legend()\n",
    "    plt.title(\"Loss\")\n",
    "    plt.show()\n",
    "    \n",
    "    for key, cond in enumerate(history.keys()): \n",
    "        plt.plot(range(len(history[cond]['train_acc'])), history[cond]['train_acc'], label='train_' + cond)\n",
    "        plt.plot(range(len(history[cond]['valid_acc'])), history[cond]['valid_acc'], '--', label='valid_' + cond)\n",
    "    plt.legend()\n",
    "    plt.title(\"Accuracy\")\n",
    "    plt.show()"
   ]
  },
  {
   "cell_type": "code",
   "execution_count": null,
   "metadata": {},
   "outputs": [],
   "source": [
    "show_history(results)"
   ]
  },
  {
   "cell_type": "markdown",
   "metadata": {},
   "source": [
    "## 請嘗試將 BN 放在 Activation 之前，並比較訓練結果"
   ]
  },
  {
   "cell_type": "code",
   "execution_count": 8,
   "metadata": {},
   "outputs": [],
   "source": [
    "from keras.layers import BatchNormalization\n",
    "\n",
    "def build_mlp_v2 (input_shape, output_units=10, num_neurons=[512, 256, 128]):\n",
    "    input_layer = keras.layers.Input(input_shape)\n",
    "    \n",
    "    for i, n_units in enumerate(num_neurons):\n",
    "        if i == 0:\n",
    "            x = BatchNormalization()(input_layer)\n",
    "            x = keras.layers.Dense(units=n_units, \n",
    "                                   activation=\"relu\", \n",
    "                                   name=\"hidden_layer\"+str(i+1))(x)\n",
    "            \n",
    "        else:\n",
    "            x = BatchNormalization()(x)\n",
    "            x = keras.layers.Dense(units=n_units, \n",
    "                                   activation=\"relu\", \n",
    "                                   name=\"hidden_layer\"+str(i+1))(x)\n",
    "           \n",
    "    x = BatchNormalization()(x)\n",
    "    out = keras.layers.Dense(units=output_units, activation=\"softmax\", name=\"output\")(x)\n",
    "    \n",
    "    model = keras.models.Model(inputs=[input_layer], outputs=[out])\n",
    "    return model"
   ]
  },
  {
   "cell_type": "code",
   "execution_count": 9,
   "metadata": {},
   "outputs": [],
   "source": [
    "\"\"\"Code Here\n",
    "設定超參數\n",
    "\"\"\"\n",
    "LEARNING_RATE = 1e-3\n",
    "EPOCHS = 30\n",
    "BATCH_SIZE = 1024\n",
    "MOMENTUM = 0.95"
   ]
  },
  {
   "cell_type": "code",
   "execution_count": 10,
   "metadata": {
    "scrolled": true
   },
   "outputs": [
    {
     "name": "stderr",
     "output_type": "stream",
     "text": [
      "WARNING: Logging before flag parsing goes to stderr.\n",
      "W0722 23:38:00.740423  1060 deprecation_wrapper.py:119] From C:\\Users\\user1\\Anaconda3\\lib\\site-packages\\keras\\backend\\tensorflow_backend.py:74: The name tf.get_default_graph is deprecated. Please use tf.compat.v1.get_default_graph instead.\n",
      "\n",
      "W0722 23:38:00.754431  1060 deprecation_wrapper.py:119] From C:\\Users\\user1\\Anaconda3\\lib\\site-packages\\keras\\backend\\tensorflow_backend.py:517: The name tf.placeholder is deprecated. Please use tf.compat.v1.placeholder instead.\n",
      "\n",
      "W0722 23:38:00.757426  1060 deprecation_wrapper.py:119] From C:\\Users\\user1\\Anaconda3\\lib\\site-packages\\keras\\backend\\tensorflow_backend.py:4138: The name tf.random_uniform is deprecated. Please use tf.random.uniform instead.\n",
      "\n",
      "W0722 23:38:00.828463  1060 deprecation_wrapper.py:119] From C:\\Users\\user1\\Anaconda3\\lib\\site-packages\\keras\\backend\\tensorflow_backend.py:133: The name tf.placeholder_with_default is deprecated. Please use tf.compat.v1.placeholder_with_default instead.\n",
      "\n",
      "W0722 23:38:01.009425  1060 deprecation_wrapper.py:119] From C:\\Users\\user1\\Anaconda3\\lib\\site-packages\\keras\\optimizers.py:790: The name tf.train.Optimizer is deprecated. Please use tf.compat.v1.train.Optimizer instead.\n",
      "\n",
      "W0722 23:38:01.015424  1060 deprecation_wrapper.py:119] From C:\\Users\\user1\\Anaconda3\\lib\\site-packages\\keras\\backend\\tensorflow_backend.py:3295: The name tf.log is deprecated. Please use tf.math.log instead.\n",
      "\n",
      "W0722 23:38:01.102424  1060 deprecation.py:323] From C:\\Users\\user1\\Anaconda3\\lib\\site-packages\\tensorflow\\python\\ops\\math_grad.py:1250: add_dispatch_support.<locals>.wrapper (from tensorflow.python.ops.array_ops) is deprecated and will be removed in a future version.\n",
      "Instructions for updating:\n",
      "Use tf.where in 2.0, which has the same broadcast rule as np.where\n"
     ]
    },
    {
     "name": "stdout",
     "output_type": "stream",
     "text": [
      "_________________________________________________________________\n",
      "Layer (type)                 Output Shape              Param #   \n",
      "=================================================================\n",
      "input_1 (InputLayer)         (None, 3072)              0         \n",
      "_________________________________________________________________\n",
      "hidden_layer1 (Dense)        (None, 512)               1573376   \n",
      "_________________________________________________________________\n",
      "batch_normalization_1 (Batch (None, 512)               2048      \n",
      "_________________________________________________________________\n",
      "hidden_layer2 (Dense)        (None, 256)               131328    \n",
      "_________________________________________________________________\n",
      "batch_normalization_2 (Batch (None, 256)               1024      \n",
      "_________________________________________________________________\n",
      "hidden_layer3 (Dense)        (None, 128)               32896     \n",
      "_________________________________________________________________\n",
      "batch_normalization_3 (Batch (None, 128)               512       \n",
      "_________________________________________________________________\n",
      "output (Dense)               (None, 10)                1290      \n",
      "=================================================================\n",
      "Total params: 1,742,474\n",
      "Trainable params: 1,740,682\n",
      "Non-trainable params: 1,792\n",
      "_________________________________________________________________\n",
      "Train on 50000 samples, validate on 10000 samples\n",
      "Epoch 1/30\n",
      "50000/50000 [==============================] - 5s 102us/step - loss: 2.1667 - acc: 0.2762 - val_loss: 2.0615 - val_acc: 0.3167\n",
      "Epoch 2/30\n",
      "50000/50000 [==============================] - 4s 88us/step - loss: 1.7269 - acc: 0.3965 - val_loss: 1.7979 - val_acc: 0.3750\n",
      "Epoch 3/30\n",
      "50000/50000 [==============================] - 4s 86us/step - loss: 1.6090 - acc: 0.4351 - val_loss: 1.6728 - val_acc: 0.4101\n",
      "Epoch 4/30\n",
      "50000/50000 [==============================] - 4s 86us/step - loss: 1.5401 - acc: 0.4601 - val_loss: 1.6069 - val_acc: 0.4301\n",
      "Epoch 5/30\n",
      "50000/50000 [==============================] - 4s 86us/step - loss: 1.4888 - acc: 0.4799 - val_loss: 1.5799 - val_acc: 0.4390\n",
      "Epoch 6/30\n",
      "50000/50000 [==============================] - 4s 86us/step - loss: 1.4430 - acc: 0.4956 - val_loss: 1.5619 - val_acc: 0.4499\n",
      "Epoch 7/30\n",
      "50000/50000 [==============================] - 4s 87us/step - loss: 1.4049 - acc: 0.5090 - val_loss: 1.5372 - val_acc: 0.4562\n",
      "Epoch 8/30\n",
      "50000/50000 [==============================] - 4s 86us/step - loss: 1.3719 - acc: 0.5211 - val_loss: 1.5344 - val_acc: 0.4566\n",
      "Epoch 9/30\n",
      "50000/50000 [==============================] - 4s 85us/step - loss: 1.3411 - acc: 0.5334 - val_loss: 1.5108 - val_acc: 0.4668\n",
      "Epoch 10/30\n",
      "50000/50000 [==============================] - 4s 85us/step - loss: 1.3104 - acc: 0.5427 - val_loss: 1.4985 - val_acc: 0.4678\n",
      "Epoch 11/30\n",
      "50000/50000 [==============================] - 5s 90us/step - loss: 1.2815 - acc: 0.5537 - val_loss: 1.4896 - val_acc: 0.4745\n",
      "Epoch 12/30\n",
      "50000/50000 [==============================] - 4s 87us/step - loss: 1.2565 - acc: 0.5616 - val_loss: 1.4833 - val_acc: 0.4722\n",
      "Epoch 13/30\n",
      "50000/50000 [==============================] - 4s 85us/step - loss: 1.2310 - acc: 0.5727 - val_loss: 1.4629 - val_acc: 0.4827\n",
      "Epoch 14/30\n",
      "50000/50000 [==============================] - 4s 85us/step - loss: 1.2062 - acc: 0.5805 - val_loss: 1.4737 - val_acc: 0.4838\n",
      "Epoch 15/30\n",
      "50000/50000 [==============================] - 4s 85us/step - loss: 1.1812 - acc: 0.5909 - val_loss: 1.4641 - val_acc: 0.4848\n",
      "Epoch 16/30\n",
      "50000/50000 [==============================] - 4s 85us/step - loss: 1.1604 - acc: 0.5992 - val_loss: 1.4577 - val_acc: 0.4835\n",
      "Epoch 17/30\n",
      "50000/50000 [==============================] - 4s 85us/step - loss: 1.1382 - acc: 0.6062 - val_loss: 1.4549 - val_acc: 0.4866\n",
      "Epoch 18/30\n",
      "50000/50000 [==============================] - 4s 85us/step - loss: 1.1154 - acc: 0.6151 - val_loss: 1.4592 - val_acc: 0.4874\n",
      "Epoch 19/30\n",
      "50000/50000 [==============================] - 4s 85us/step - loss: 1.0923 - acc: 0.6260 - val_loss: 1.4518 - val_acc: 0.4882\n",
      "Epoch 20/30\n",
      "50000/50000 [==============================] - 4s 85us/step - loss: 1.0704 - acc: 0.6326 - val_loss: 1.4495 - val_acc: 0.4891\n",
      "Epoch 21/30\n",
      "50000/50000 [==============================] - 4s 85us/step - loss: 1.0485 - acc: 0.6423 - val_loss: 1.4457 - val_acc: 0.4952\n",
      "Epoch 22/30\n",
      "50000/50000 [==============================] - 4s 85us/step - loss: 1.0254 - acc: 0.6516 - val_loss: 1.4517 - val_acc: 0.4956\n",
      "Epoch 23/30\n",
      "50000/50000 [==============================] - 4s 87us/step - loss: 1.0061 - acc: 0.6565 - val_loss: 1.4469 - val_acc: 0.4939\n",
      "Epoch 24/30\n",
      "50000/50000 [==============================] - 4s 88us/step - loss: 0.9860 - acc: 0.6663 - val_loss: 1.4516 - val_acc: 0.4940\n",
      "Epoch 25/30\n",
      "50000/50000 [==============================] - 4s 86us/step - loss: 0.9631 - acc: 0.6742 - val_loss: 1.4589 - val_acc: 0.4946\n",
      "Epoch 26/30\n",
      "50000/50000 [==============================] - 4s 85us/step - loss: 0.9440 - acc: 0.6819 - val_loss: 1.4501 - val_acc: 0.4956\n",
      "Epoch 27/30\n",
      "50000/50000 [==============================] - 4s 85us/step - loss: 0.9243 - acc: 0.6907 - val_loss: 1.4550 - val_acc: 0.4979\n",
      "Epoch 28/30\n",
      "50000/50000 [==============================] - 4s 85us/step - loss: 0.9052 - acc: 0.6962 - val_loss: 1.4581 - val_acc: 0.4966\n",
      "Epoch 29/30\n",
      "50000/50000 [==============================] - 4s 84us/step - loss: 0.8854 - acc: 0.7054 - val_loss: 1.4739 - val_acc: 0.4968\n",
      "Epoch 30/30\n",
      "50000/50000 [==============================] - 4s 85us/step - loss: 0.8636 - acc: 0.7140 - val_loss: 1.4749 - val_acc: 0.4959\n"
     ]
    }
   ],
   "source": [
    "results_2 = {}\n",
    "\"\"\"Code Here\n",
    "撰寫你的訓練流程並將結果用 dictionary 紀錄\n",
    "\"\"\"\n",
    "model = build_mlp(input_shape=x_train.shape[1:])\n",
    "model.summary()\n",
    "optimizer = keras.optimizers.SGD(lr=LEARNING_RATE, nesterov=True, momentum=MOMENTUM)\n",
    "model.compile(loss=\"categorical_crossentropy\", metrics=[\"accuracy\"], optimizer=optimizer)\n",
    "\n",
    "model.fit(x_train, y_train, \n",
    "          epochs=EPOCHS, \n",
    "          batch_size=BATCH_SIZE, \n",
    "          validation_data=(x_test, y_test), \n",
    "          shuffle=True)\n",
    "\n",
    "# Collect results\n",
    "train_loss = model.history.history[\"loss\"]\n",
    "valid_loss = model.history.history[\"val_loss\"]\n",
    "train_acc = model.history.history[\"acc\"]\n",
    "valid_acc = model.history.history[\"val_acc\"]\n",
    "    \n",
    "results_2['v1'] = {\n",
    "        'train_loss':train_loss,\n",
    "        'valid_loss':valid_loss,\n",
    "        'train_acc':train_acc,\n",
    "        'valid_acc':valid_acc\n",
    "}    "
   ]
  },
  {
   "cell_type": "code",
   "execution_count": 11,
   "metadata": {},
   "outputs": [
    {
     "name": "stdout",
     "output_type": "stream",
     "text": [
      "_________________________________________________________________\n",
      "Layer (type)                 Output Shape              Param #   \n",
      "=================================================================\n",
      "input_2 (InputLayer)         (None, 3072)              0         \n",
      "_________________________________________________________________\n",
      "batch_normalization_4 (Batch (None, 3072)              12288     \n",
      "_________________________________________________________________\n",
      "hidden_layer1 (Dense)        (None, 512)               1573376   \n",
      "_________________________________________________________________\n",
      "batch_normalization_5 (Batch (None, 512)               2048      \n",
      "_________________________________________________________________\n",
      "hidden_layer2 (Dense)        (None, 256)               131328    \n",
      "_________________________________________________________________\n",
      "batch_normalization_6 (Batch (None, 256)               1024      \n",
      "_________________________________________________________________\n",
      "hidden_layer3 (Dense)        (None, 128)               32896     \n",
      "_________________________________________________________________\n",
      "batch_normalization_7 (Batch (None, 128)               512       \n",
      "_________________________________________________________________\n",
      "output (Dense)               (None, 10)                1290      \n",
      "=================================================================\n",
      "Total params: 1,754,762\n",
      "Trainable params: 1,746,826\n",
      "Non-trainable params: 7,936\n",
      "_________________________________________________________________\n",
      "Train on 50000 samples, validate on 10000 samples\n",
      "Epoch 1/30\n",
      "50000/50000 [==============================] - 7s 142us/step - loss: 2.2504 - acc: 0.2631 - val_loss: 1.9219 - val_acc: 0.3553\n",
      "Epoch 2/30\n",
      "50000/50000 [==============================] - 6s 124us/step - loss: 1.7340 - acc: 0.3965 - val_loss: 1.7231 - val_acc: 0.4039\n",
      "Epoch 3/30\n",
      "50000/50000 [==============================] - 6s 124us/step - loss: 1.6048 - acc: 0.4391 - val_loss: 1.6447 - val_acc: 0.4227\n",
      "Epoch 4/30\n",
      "50000/50000 [==============================] - 6s 124us/step - loss: 1.5265 - acc: 0.4675 - val_loss: 1.5982 - val_acc: 0.4391\n",
      "Epoch 5/30\n",
      "50000/50000 [==============================] - 6s 124us/step - loss: 1.4657 - acc: 0.4883 - val_loss: 1.5680 - val_acc: 0.4471\n",
      "Epoch 6/30\n",
      "50000/50000 [==============================] - 6s 126us/step - loss: 1.4155 - acc: 0.5069 - val_loss: 1.5408 - val_acc: 0.4545\n",
      "Epoch 7/30\n",
      "50000/50000 [==============================] - 6s 128us/step - loss: 1.3697 - acc: 0.5235 - val_loss: 1.5184 - val_acc: 0.4653\n",
      "Epoch 8/30\n",
      "50000/50000 [==============================] - 6s 128us/step - loss: 1.3301 - acc: 0.5384 - val_loss: 1.5015 - val_acc: 0.4664\n",
      "Epoch 9/30\n",
      "50000/50000 [==============================] - 6s 127us/step - loss: 1.2919 - acc: 0.5539 - val_loss: 1.4910 - val_acc: 0.4748\n",
      "Epoch 10/30\n",
      "50000/50000 [==============================] - 6s 129us/step - loss: 1.2582 - acc: 0.5651 - val_loss: 1.4779 - val_acc: 0.4792\n",
      "Epoch 11/30\n",
      "50000/50000 [==============================] - 6s 128us/step - loss: 1.2253 - acc: 0.5762 - val_loss: 1.4701 - val_acc: 0.4831\n",
      "Epoch 12/30\n",
      "50000/50000 [==============================] - 6s 128us/step - loss: 1.1924 - acc: 0.5909 - val_loss: 1.4647 - val_acc: 0.4854\n",
      "Epoch 13/30\n",
      "50000/50000 [==============================] - 6s 125us/step - loss: 1.1630 - acc: 0.6005 - val_loss: 1.4568 - val_acc: 0.4878\n",
      "Epoch 14/30\n",
      "50000/50000 [==============================] - 6s 126us/step - loss: 1.1323 - acc: 0.6124 - val_loss: 1.4534 - val_acc: 0.4943\n",
      "Epoch 15/30\n",
      "50000/50000 [==============================] - 6s 124us/step - loss: 1.1026 - acc: 0.6259 - val_loss: 1.4503 - val_acc: 0.4971\n",
      "Epoch 16/30\n",
      "50000/50000 [==============================] - 6s 127us/step - loss: 1.0758 - acc: 0.6340 - val_loss: 1.4472 - val_acc: 0.4989\n",
      "Epoch 17/30\n",
      "50000/50000 [==============================] - 6s 125us/step - loss: 1.0477 - acc: 0.6448 - val_loss: 1.4472 - val_acc: 0.4982\n",
      "Epoch 18/30\n",
      "50000/50000 [==============================] - 6s 125us/step - loss: 1.0211 - acc: 0.6575 - val_loss: 1.4459 - val_acc: 0.4979\n",
      "Epoch 19/30\n",
      "50000/50000 [==============================] - 6s 125us/step - loss: 0.9936 - acc: 0.6682 - val_loss: 1.4479 - val_acc: 0.5035\n",
      "Epoch 20/30\n",
      "50000/50000 [==============================] - 6s 125us/step - loss: 0.9677 - acc: 0.6780 - val_loss: 1.4492 - val_acc: 0.4985\n",
      "Epoch 21/30\n",
      "50000/50000 [==============================] - 6s 125us/step - loss: 0.9407 - acc: 0.6892 - val_loss: 1.4533 - val_acc: 0.5013\n",
      "Epoch 22/30\n",
      "50000/50000 [==============================] - 6s 125us/step - loss: 0.9152 - acc: 0.6997 - val_loss: 1.4551 - val_acc: 0.5002\n",
      "Epoch 23/30\n",
      "50000/50000 [==============================] - 6s 126us/step - loss: 0.8881 - acc: 0.7109 - val_loss: 1.4612 - val_acc: 0.5030\n",
      "Epoch 24/30\n",
      "50000/50000 [==============================] - 6s 125us/step - loss: 0.8635 - acc: 0.7202 - val_loss: 1.4649 - val_acc: 0.4998\n",
      "Epoch 25/30\n",
      "50000/50000 [==============================] - 6s 125us/step - loss: 0.8377 - acc: 0.7302 - val_loss: 1.4688 - val_acc: 0.5021\n",
      "Epoch 26/30\n",
      "50000/50000 [==============================] - 6s 126us/step - loss: 0.8121 - acc: 0.7406 - val_loss: 1.4787 - val_acc: 0.5046\n",
      "Epoch 27/30\n",
      "50000/50000 [==============================] - 6s 126us/step - loss: 0.7869 - acc: 0.7509 - val_loss: 1.4835 - val_acc: 0.5003\n",
      "Epoch 28/30\n",
      "50000/50000 [==============================] - 6s 127us/step - loss: 0.7625 - acc: 0.7609 - val_loss: 1.4891 - val_acc: 0.5036\n",
      "Epoch 29/30\n",
      "50000/50000 [==============================] - 6s 128us/step - loss: 0.7389 - acc: 0.7703 - val_loss: 1.4998 - val_acc: 0.5014\n",
      "Epoch 30/30\n",
      "50000/50000 [==============================] - 6s 127us/step - loss: 0.7147 - acc: 0.7800 - val_loss: 1.5045 - val_acc: 0.5050\n"
     ]
    }
   ],
   "source": [
    "model2 = build_mlp_v2(input_shape=x_train.shape[1:])\n",
    "model2.summary()\n",
    "optimizer = keras.optimizers.SGD(lr=LEARNING_RATE, nesterov=True, momentum=MOMENTUM)\n",
    "model2.compile(loss=\"categorical_crossentropy\", metrics=[\"accuracy\"], optimizer=optimizer)\n",
    "\n",
    "model2.fit(x_train, y_train, \n",
    "          epochs=EPOCHS, \n",
    "          batch_size=BATCH_SIZE, \n",
    "          validation_data=(x_test, y_test), \n",
    "          shuffle=True)\n",
    "\n",
    "# Collect results\n",
    "train_loss = model2.history.history[\"loss\"]\n",
    "valid_loss = model2.history.history[\"val_loss\"]\n",
    "train_acc = model2.history.history[\"acc\"]\n",
    "valid_acc = model2.history.history[\"val_acc\"]\n",
    "    \n",
    "results_2['v2'] = {\n",
    "        'train_loss':train_loss,\n",
    "        'valid_loss':valid_loss,\n",
    "        'train_acc':train_acc,\n",
    "        'valid_acc':valid_acc\n",
    "}    "
   ]
  },
  {
   "cell_type": "code",
   "execution_count": 12,
   "metadata": {},
   "outputs": [
    {
     "data": {
      "image/png": "[encoded data removed]",
      "text/plain": [
       "<Figure size 432x288 with 1 Axes>"
      ]
     },
     "metadata": {
      "needs_background": "light"
     },
     "output_type": "display_data"
    },
    {
     "data": {
      "image/png": "[encoded data removed]",
      "text/plain": [
       "<Figure size 432x288 with 1 Axes>"
      ]
     },
     "metadata": {
      "needs_background": "light"
     },
     "output_type": "display_data"
    }
   ],
   "source": [
    "show_history(results_2)"
   ]
  },
  {
   "cell_type": "markdown",
   "metadata": {},
   "source": [
    "## 請於 BN 放在 Input Layer 後，並比較結果"
   ]
  },
  {
   "cell_type": "code",
   "execution_count": 16,
   "metadata": {},
   "outputs": [],
   "source": [
    "from keras.layers import BatchNormalization\n",
    "\n",
    "def build_mlp_v3 (input_shape, output_units=10, num_neurons=[512, 256, 128]):\n",
    "    input_layer = keras.layers.Input(input_shape)\n",
    "    x = BatchNormalization()(input_layer)\n",
    "    \n",
    "    for i, n_units in enumerate(num_neurons):\n",
    "        if i == 0:\n",
    "            x = keras.layers.Dense(units=n_units, \n",
    "                                   activation=\"relu\", \n",
    "                                   name=\"hidden_layer\"+str(i+1))(x)\n",
    "            \n",
    "        else:\n",
    "            x = keras.layers.Dense(units=n_units, \n",
    "                                   activation=\"relu\", \n",
    "                                   name=\"hidden_layer\"+str(i+1))(x)\n",
    "           \n",
    "    out = keras.layers.Dense(units=output_units, activation=\"softmax\", name=\"output\")(x)\n",
    "    \n",
    "    model = keras.models.Model(inputs=[input_layer], outputs=[out])\n",
    "    return model"
   ]
  },
  {
   "cell_type": "code",
   "execution_count": 17,
   "metadata": {},
   "outputs": [],
   "source": [
    "\"\"\"Code Here\n",
    "設定超參數\n",
    "\"\"\"\n",
    "LEARNING_RATE = 1e-3\n",
    "EPOCHS = 30\n",
    "BATCH_SIZE = 1024\n",
    "MOMENTUM = 0.95"
   ]
  },
  {
   "cell_type": "code",
   "execution_count": 18,
   "metadata": {
    "scrolled": true
   },
   "outputs": [
    {
     "name": "stdout",
     "output_type": "stream",
     "text": [
      "_________________________________________________________________\n",
      "Layer (type)                 Output Shape              Param #   \n",
      "=================================================================\n",
      "input_4 (InputLayer)         (None, 3072)              0         \n",
      "_________________________________________________________________\n",
      "batch_normalization_8 (Batch (None, 3072)              12288     \n",
      "_________________________________________________________________\n",
      "hidden_layer1 (Dense)        (None, 512)               1573376   \n",
      "_________________________________________________________________\n",
      "hidden_layer2 (Dense)        (None, 256)               131328    \n",
      "_________________________________________________________________\n",
      "hidden_layer3 (Dense)        (None, 128)               32896     \n",
      "_________________________________________________________________\n",
      "output (Dense)               (None, 10)                1290      \n",
      "=================================================================\n",
      "Total params: 1,751,178\n",
      "Trainable params: 1,745,034\n",
      "Non-trainable params: 6,144\n",
      "_________________________________________________________________\n",
      "Train on 50000 samples, validate on 10000 samples\n",
      "Epoch 1/30\n",
      "50000/50000 [==============================] - 6s 125us/step - loss: 2.1796 - acc: 0.2185 - val_loss: 1.9499 - val_acc: 0.3073\n",
      "Epoch 2/30\n",
      "50000/50000 [==============================] - 6s 111us/step - loss: 1.8670 - acc: 0.3419 - val_loss: 1.8013 - val_acc: 0.3673\n",
      "Epoch 3/30\n",
      "50000/50000 [==============================] - 6s 113us/step - loss: 1.7524 - acc: 0.3841 - val_loss: 1.7249 - val_acc: 0.3956\n",
      "Epoch 4/30\n",
      "50000/50000 [==============================] - 6s 114us/step - loss: 1.6823 - acc: 0.4106 - val_loss: 1.6737 - val_acc: 0.4162\n",
      "Epoch 5/30\n",
      "50000/50000 [==============================] - 6s 113us/step - loss: 1.6283 - acc: 0.4332 - val_loss: 1.6362 - val_acc: 0.4266\n",
      "Epoch 6/30\n",
      "50000/50000 [==============================] - 6s 113us/step - loss: 1.5852 - acc: 0.4486 - val_loss: 1.6055 - val_acc: 0.4405\n",
      "Epoch 7/30\n",
      "50000/50000 [==============================] - 6s 112us/step - loss: 1.5483 - acc: 0.4612 - val_loss: 1.5797 - val_acc: 0.4507\n",
      "Epoch 8/30\n",
      "50000/50000 [==============================] - 6s 111us/step - loss: 1.5161 - acc: 0.4732 - val_loss: 1.5580 - val_acc: 0.4576\n",
      "Epoch 9/30\n",
      "50000/50000 [==============================] - 6s 113us/step - loss: 1.4874 - acc: 0.4846 - val_loss: 1.5405 - val_acc: 0.4612\n",
      "Epoch 10/30\n",
      "50000/50000 [==============================] - 6s 116us/step - loss: 1.4615 - acc: 0.4942 - val_loss: 1.5231 - val_acc: 0.4638\n",
      "Epoch 11/30\n",
      "50000/50000 [==============================] - 6s 118us/step - loss: 1.4367 - acc: 0.5026 - val_loss: 1.5090 - val_acc: 0.4712\n",
      "Epoch 12/30\n",
      "50000/50000 [==============================] - 6s 111us/step - loss: 1.4137 - acc: 0.5116 - val_loss: 1.4972 - val_acc: 0.4716\n",
      "Epoch 13/30\n",
      "50000/50000 [==============================] - 6s 111us/step - loss: 1.3922 - acc: 0.5192 - val_loss: 1.4850 - val_acc: 0.4782\n",
      "Epoch 14/30\n",
      "50000/50000 [==============================] - 6s 112us/step - loss: 1.3717 - acc: 0.5276 - val_loss: 1.4746 - val_acc: 0.4852\n",
      "Epoch 15/30\n",
      "50000/50000 [==============================] - 6s 112us/step - loss: 1.3520 - acc: 0.5348 - val_loss: 1.4653 - val_acc: 0.4847\n",
      "Epoch 16/30\n",
      "50000/50000 [==============================] - 6s 112us/step - loss: 1.3334 - acc: 0.5394 - val_loss: 1.4555 - val_acc: 0.4899\n",
      "Epoch 17/30\n",
      "50000/50000 [==============================] - 6s 113us/step - loss: 1.3153 - acc: 0.5470 - val_loss: 1.4485 - val_acc: 0.4915\n",
      "Epoch 18/30\n",
      "50000/50000 [==============================] - 6s 114us/step - loss: 1.2979 - acc: 0.5532 - val_loss: 1.4427 - val_acc: 0.4935\n",
      "Epoch 19/30\n",
      "50000/50000 [==============================] - 6s 115us/step - loss: 1.2796 - acc: 0.5612 - val_loss: 1.4347 - val_acc: 0.4937\n",
      "Epoch 20/30\n",
      "50000/50000 [==============================] - 6s 120us/step - loss: 1.2628 - acc: 0.5668 - val_loss: 1.4288 - val_acc: 0.4952\n",
      "Epoch 21/30\n",
      "50000/50000 [==============================] - 6s 115us/step - loss: 1.2465 - acc: 0.5731 - val_loss: 1.4243 - val_acc: 0.4965\n",
      "Epoch 22/30\n",
      "50000/50000 [==============================] - 6s 117us/step - loss: 1.2305 - acc: 0.5793 - val_loss: 1.4191 - val_acc: 0.5005\n",
      "Epoch 23/30\n",
      "50000/50000 [==============================] - 6s 113us/step - loss: 1.2148 - acc: 0.5849 - val_loss: 1.4152 - val_acc: 0.5038\n",
      "Epoch 24/30\n",
      "50000/50000 [==============================] - 6s 111us/step - loss: 1.1989 - acc: 0.5908 - val_loss: 1.4093 - val_acc: 0.5022\n",
      "Epoch 25/30\n",
      "50000/50000 [==============================] - 6s 112us/step - loss: 1.1843 - acc: 0.5964 - val_loss: 1.4045 - val_acc: 0.5083\n",
      "Epoch 26/30\n",
      "50000/50000 [==============================] - 6s 113us/step - loss: 1.1681 - acc: 0.6020 - val_loss: 1.4021 - val_acc: 0.5078\n",
      "Epoch 27/30\n",
      "50000/50000 [==============================] - 6s 111us/step - loss: 1.1537 - acc: 0.6081 - val_loss: 1.3996 - val_acc: 0.5115\n",
      "Epoch 28/30\n",
      "50000/50000 [==============================] - 6s 112us/step - loss: 1.1379 - acc: 0.6140 - val_loss: 1.3995 - val_acc: 0.5131\n",
      "Epoch 29/30\n",
      "50000/50000 [==============================] - 6s 111us/step - loss: 1.1236 - acc: 0.6189 - val_loss: 1.3946 - val_acc: 0.5102\n",
      "Epoch 30/30\n",
      "50000/50000 [==============================] - 6s 111us/step - loss: 1.1085 - acc: 0.6248 - val_loss: 1.3939 - val_acc: 0.5098\n"
     ]
    }
   ],
   "source": [
    "\"\"\"Code Here\n",
    "撰寫你的訓練流程並將結果用 dictionary 紀錄\n",
    "\"\"\"\n",
    "model3 = build_mlp_v3(input_shape=x_train.shape[1:])\n",
    "model3.summary()\n",
    "optimizer = keras.optimizers.SGD(lr=LEARNING_RATE, nesterov=True, momentum=MOMENTUM)\n",
    "model3.compile(loss=\"categorical_crossentropy\", metrics=[\"accuracy\"], optimizer=optimizer)\n",
    "\n",
    "model3.fit(x_train, y_train, \n",
    "          epochs=EPOCHS, \n",
    "          batch_size=BATCH_SIZE, \n",
    "          validation_data=(x_test, y_test), \n",
    "          shuffle=True)\n",
    "\n",
    "# Collect results\n",
    "train_loss = model3.history.history[\"loss\"]\n",
    "valid_loss = model3.history.history[\"val_loss\"]\n",
    "train_acc = model3.history.history[\"acc\"]\n",
    "valid_acc = model3.history.history[\"val_acc\"]\n",
    "    \n",
    "results_2['v3'] = {\n",
    "        'train_loss':train_loss,\n",
    "        'valid_loss':valid_loss,\n",
    "        'train_acc':train_acc,\n",
    "        'valid_acc':valid_acc\n",
    "}    "
   ]
  },
  {
   "cell_type": "code",
   "execution_count": 19,
   "metadata": {},
   "outputs": [
    {
     "data": {
      "image/png": "[encoded data removed]",
      "text/plain": [
       "<Figure size 432x288 with 1 Axes>"
      ]
     },
     "metadata": {
      "needs_background": "light"
     },
     "output_type": "display_data"
    },
    {
     "data": {
      "image/png": "[encoded data removed]",
      "text/plain": [
       "<Figure size 432x288 with 1 Axes>"
      ]
     },
     "metadata": {
      "needs_background": "light"
     },
     "output_type": "display_data"
    }
   ],
   "source": [
    "show_history(results_2)"
   ]
  },
  {
   "cell_type": "code",
   "execution_count": null,
   "metadata": {},
   "outputs": [],
   "source": []
  }
 ],
 "metadata": {
  "kernelspec": {
   "display_name": "Python 3",
   "language": "python",
   "name": "python3"
  },
  "language_info": {
   "codemirror_mode": {
    "name": "ipython",
    "version": 3
   },
   "file_extension": ".py",
   "mimetype": "text/x-python",
   "name": "python",
   "nbconvert_exporter": "python",
   "pygments_lexer": "ipython3",
   "version": "3.7.3"
  }
 },
 "nbformat": 4,
 "nbformat_minor": 2
}
