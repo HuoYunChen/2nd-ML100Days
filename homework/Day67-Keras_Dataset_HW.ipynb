{
 "cells": [
  {
   "cell_type": "markdown",
   "metadata": {},
   "source": [
    "# 作業目標:\n",
    "\n",
    "    使用CIFAR100, 數據集變大的影響\n",
    "    \n",
    "    \n",
    "# 作業重點:¶\n",
    "\n",
    "   了解 CIFAR100 跟 CIFAR10 數據及差異\n"
   ]
  },
  {
   "cell_type": "code",
   "execution_count": 1,
   "metadata": {},
   "outputs": [
    {
     "name": "stderr",
     "output_type": "stream",
     "text": [
      "Using TensorFlow backend.\n"
     ]
    }
   ],
   "source": [
    "import numpy\n",
    "from keras.datasets import cifar100\n",
    "import numpy as np\n",
    "np.random.seed(100)"
   ]
  },
  {
   "cell_type": "markdown",
   "metadata": {},
   "source": [
    "# 資料準備"
   ]
  },
  {
   "cell_type": "code",
   "execution_count": 2,
   "metadata": {},
   "outputs": [
    {
     "name": "stdout",
     "output_type": "stream",
     "text": [
      "Downloading data from https://www.cs.toronto.edu/~kriz/cifar-100-python.tar.gz\n",
      "169009152/169001437 [==============================] - 90s 1us/step\n"
     ]
    }
   ],
   "source": [
    "(x_image_train, y_label_train), (x_image_test, y_label_test) = cifar100.load_data()"
   ]
  },
  {
   "cell_type": "code",
   "execution_count": 3,
   "metadata": {},
   "outputs": [
    {
     "data": {
      "text/plain": [
       "(50000, 32, 32, 3)"
      ]
     },
     "execution_count": 3,
     "metadata": {},
     "output_type": "execute_result"
    }
   ],
   "source": [
    "x_image_train.shape"
   ]
  },
  {
   "cell_type": "code",
   "execution_count": 4,
   "metadata": {},
   "outputs": [
    {
     "data": {
      "text/plain": [
       "(50000, 1)"
      ]
     },
     "execution_count": 4,
     "metadata": {},
     "output_type": "execute_result"
    }
   ],
   "source": [
    "y_label_train.shape"
   ]
  },
  {
   "cell_type": "code",
   "execution_count": 5,
   "metadata": {},
   "outputs": [
    {
     "data": {
      "text/plain": [
       "(10000, 32, 32, 3)"
      ]
     },
     "execution_count": 5,
     "metadata": {},
     "output_type": "execute_result"
    }
   ],
   "source": [
    "x_image_test.shape"
   ]
  },
  {
   "cell_type": "code",
   "execution_count": 6,
   "metadata": {},
   "outputs": [
    {
     "data": {
      "text/plain": [
       "(10000, 1)"
      ]
     },
     "execution_count": 6,
     "metadata": {},
     "output_type": "execute_result"
    }
   ],
   "source": [
    "y_label_test.shape"
   ]
  },
  {
   "cell_type": "code",
   "execution_count": 21,
   "metadata": {},
   "outputs": [
    {
     "data": {
      "text/plain": [
       "array([[49],\n",
       "       [33],\n",
       "       [72],\n",
       "       [51],\n",
       "       [71]])"
      ]
     },
     "execution_count": 21,
     "metadata": {},
     "output_type": "execute_result"
    }
   ],
   "source": [
    "y_label_test[:5]"
   ]
  },
  {
   "cell_type": "code",
   "execution_count": 23,
   "metadata": {},
   "outputs": [],
   "source": [
    "coarse_label = [\n",
    "'apple', # id 0\n",
    "'aquarium_fish',\n",
    "'baby',\n",
    "'bear',\n",
    "'beaver',\n",
    "'bed',\n",
    "'bee',\n",
    "'beetle',\n",
    "'bicycle',\n",
    "'bottle',\n",
    "'bowl',\n",
    "'boy',\n",
    "'bridge',\n",
    "'bus',\n",
    "'butterfly',\n",
    "'camel',\n",
    "'can',\n",
    "'castle',\n",
    "'caterpillar',\n",
    "'cattle',\n",
    "'chair',\n",
    "'chimpanzee',\n",
    "'clock',\n",
    "'cloud',\n",
    "'cockroach',\n",
    "'couch',\n",
    "'crab',\n",
    "'crocodile',\n",
    "'cup',\n",
    "'dinosaur',\n",
    "'dolphin',\n",
    "'elephant',\n",
    "'flatfish',\n",
    "'forest',\n",
    "'fox',\n",
    "'girl',\n",
    "'hamster',\n",
    "'house',\n",
    "'kangaroo',\n",
    "'computer_keyboard',\n",
    "'lamp',\n",
    "'lawn_mower',\n",
    "'leopard',\n",
    "'lion',\n",
    "'lizard',\n",
    "'lobster',\n",
    "'man',\n",
    "'maple_tree',\n",
    "'motorcycle',\n",
    "'mountain',\n",
    "'mouse',\n",
    "'mushroom',\n",
    "'oak_tree',\n",
    "'orange',\n",
    "'orchid',\n",
    "'otter',\n",
    "'palm_tree',\n",
    "'pear',\n",
    "'pickup_truck',\n",
    "'pine_tree',\n",
    "'plain',\n",
    "'plate',\n",
    "'poppy',\n",
    "'porcupine',\n",
    "'possum',\n",
    "'rabbit',\n",
    "'raccoon',\n",
    "'ray',\n",
    "'road',\n",
    "'rocket',\n",
    "'rose',\n",
    "'sea',\n",
    "'seal',\n",
    "'shark',\n",
    "'shrew',\n",
    "'skunk',\n",
    "'skyscraper',\n",
    "'snail',\n",
    "'snake',\n",
    "'spider',\n",
    "'squirrel',\n",
    "'streetcar',\n",
    "'sunflower',\n",
    "'sweet_pepper',\n",
    "'table',\n",
    "'tank',\n",
    "'telephone',\n",
    "'television',\n",
    "'tiger',\n",
    "'tractor',\n",
    "'train',\n",
    "'trout',\n",
    "'tulip',\n",
    "'turtle',\n",
    "'wardrobe',\n",
    "'whale',\n",
    "'willow_tree',\n",
    "'wolf',\n",
    "'woman',\n",
    "'worm',\n",
    "]"
   ]
  },
  {
   "cell_type": "code",
   "execution_count": 24,
   "metadata": {},
   "outputs": [],
   "source": [
    "import matplotlib.pyplot as plt\n",
    "\n",
    "#宣告一個影像標記的函數\n",
    "def plot_images_labels_prediction(images,labels,prediction,\n",
    "                                  idx,num=10):\n",
    "    fig = plt.gcf()\n",
    "    fig.set_size_inches(12,14)\n",
    "    if num > 25: num = 25\n",
    "    for i in range(0,num):\n",
    "        ax = plt.subplot(5,5, 1+i)\n",
    "        ax.imshow(images[idx], cmap='binary')\n",
    "        title = str(i) + ',' + coarse_label[labels[i][0]]\n",
    "        if len(prediction) > 0:\n",
    "            title += '=>'+coarse_label[prediction[i]]\n",
    "        ax.set_title(title)\n",
    "        idx += 1\n",
    "    plt.show()"
   ]
  },
  {
   "cell_type": "code",
   "execution_count": 25,
   "metadata": {},
   "outputs": [
    {
     "data": {
      "image/png": "[encoded data removed]",
      "text/plain": [
       "<Figure size 864x1008 with 10 Axes>"
      ]
     },
     "metadata": {
      "needs_background": "light"
     },
     "output_type": "display_data"
    }
   ],
   "source": [
    "plot_images_labels_prediction(x_image_train,y_label_train,[],0)"
   ]
  },
  {
   "cell_type": "markdown",
   "metadata": {},
   "source": [
    "# Image normalize "
   ]
  },
  {
   "cell_type": "code",
   "execution_count": 30,
   "metadata": {},
   "outputs": [],
   "source": [
    "x_image_train_normal = x_image_train/255\n",
    "x_image_test_normal = x_image_test/255"
   ]
  },
  {
   "cell_type": "code",
   "execution_count": 31,
   "metadata": {},
   "outputs": [
    {
     "data": {
      "text/plain": [
       "array([[[0.78039216, 0.84313725, 0.97647059],\n",
       "        [0.76862745, 0.82745098, 0.95686275],\n",
       "        [0.76470588, 0.82352941, 0.95294118],\n",
       "        ...,\n",
       "        [0.84705882, 0.90588235, 0.98039216],\n",
       "        [0.85098039, 0.90588235, 0.98039216],\n",
       "        [0.87843137, 0.91764706, 0.98823529]],\n",
       "\n",
       "       [[0.77254902, 0.82352941, 0.9372549 ],\n",
       "        [0.76470588, 0.81568627, 0.93333333],\n",
       "        [0.76470588, 0.82352941, 0.94117647],\n",
       "        ...,\n",
       "        [0.90588235, 0.95294118, 0.98039216],\n",
       "        [0.91372549, 0.95294118, 0.98039216],\n",
       "        [0.94509804, 0.96078431, 0.99215686]],\n",
       "\n",
       "       [[0.87058824, 0.88627451, 0.96470588],\n",
       "        [0.83529412, 0.8627451 , 0.94901961],\n",
       "        [0.81960784, 0.85882353, 0.95294118],\n",
       "        ...,\n",
       "        [0.95294118, 0.98039216, 0.98431373],\n",
       "        [0.95686275, 0.97647059, 0.98431373],\n",
       "        [0.98039216, 0.98039216, 0.99215686]],\n",
       "\n",
       "       ...,\n",
       "\n",
       "       [[0.28235294, 0.28627451, 0.38823529],\n",
       "        [0.27843137, 0.29019608, 0.4       ],\n",
       "        [0.29019608, 0.30588235, 0.42352941],\n",
       "        ...,\n",
       "        [0.8627451 , 0.81568627, 0.85098039],\n",
       "        [0.71764706, 0.65882353, 0.70980392],\n",
       "        [0.60784314, 0.55294118, 0.58823529]],\n",
       "\n",
       "       [[0.28235294, 0.29411765, 0.40784314],\n",
       "        [0.29803922, 0.31764706, 0.43529412],\n",
       "        [0.32941176, 0.34901961, 0.47843137],\n",
       "        ...,\n",
       "        [0.87058824, 0.83137255, 0.8627451 ],\n",
       "        [0.73333333, 0.68235294, 0.75294118],\n",
       "        [0.56862745, 0.51764706, 0.58431373]],\n",
       "\n",
       "       [[0.31372549, 0.33333333, 0.4627451 ],\n",
       "        [0.32941176, 0.35294118, 0.48235294],\n",
       "        [0.33333333, 0.36078431, 0.49803922],\n",
       "        ...,\n",
       "        [0.85098039, 0.81176471, 0.84313725],\n",
       "        [0.81176471, 0.76078431, 0.82745098],\n",
       "        [0.69019608, 0.64313725, 0.71764706]]])"
      ]
     },
     "execution_count": 31,
     "metadata": {},
     "output_type": "execute_result"
    }
   ],
   "source": [
    "x_image_test_normal[0]"
   ]
  },
  {
   "cell_type": "markdown",
   "metadata": {},
   "source": [
    "# 轉換label 為OneHot Encoding"
   ]
  },
  {
   "cell_type": "code",
   "execution_count": 34,
   "metadata": {},
   "outputs": [
    {
     "data": {
      "text/plain": [
       "array([[19],\n",
       "       [29],\n",
       "       [ 0],\n",
       "       [11],\n",
       "       [ 1]])"
      ]
     },
     "execution_count": 34,
     "metadata": {},
     "output_type": "execute_result"
    }
   ],
   "source": [
    "y_label_train[:5]"
   ]
  },
  {
   "cell_type": "code",
   "execution_count": 36,
   "metadata": {},
   "outputs": [],
   "source": [
    "from keras.utils import np_utils\n",
    "\n",
    "y_label_train_onehot = np_utils.to_categorical(y_label_train)\n",
    "y_label_test_onehot = np_utils.to_categorical(y_label_test)"
   ]
  },
  {
   "cell_type": "code",
   "execution_count": 38,
   "metadata": {},
   "outputs": [
    {
     "data": {
      "text/plain": [
       "array([0., 0., 0., 0., 0., 0., 0., 0., 0., 0., 0., 0., 0., 0., 0., 0., 0.,\n",
       "       0., 0., 1., 0., 0., 0., 0., 0., 0., 0., 0., 0., 0., 0., 0., 0., 0.,\n",
       "       0., 0., 0., 0., 0., 0., 0., 0., 0., 0., 0., 0., 0., 0., 0., 0., 0.,\n",
       "       0., 0., 0., 0., 0., 0., 0., 0., 0., 0., 0., 0., 0., 0., 0., 0., 0.,\n",
       "       0., 0., 0., 0., 0., 0., 0., 0., 0., 0., 0., 0., 0., 0., 0., 0., 0.,\n",
       "       0., 0., 0., 0., 0., 0., 0., 0., 0., 0., 0., 0., 0., 0., 0.],\n",
       "      dtype=float32)"
      ]
     },
     "execution_count": 38,
     "metadata": {},
     "output_type": "execute_result"
    }
   ],
   "source": [
    "y_label_train_onehot[0]"
   ]
  },
  {
   "cell_type": "code",
   "execution_count": null,
   "metadata": {},
   "outputs": [],
   "source": []
  }
 ],
 "metadata": {
  "anaconda-cloud": {},
  "kernelspec": {
   "display_name": "Python 3",
   "language": "python",
   "name": "python3"
  },
  "language_info": {
   "codemirror_mode": {
    "name": "ipython",
    "version": 3
   },
   "file_extension": ".py",
   "mimetype": "text/x-python",
   "name": "python",
   "nbconvert_exporter": "python",
   "pygments_lexer": "ipython3",
   "version": "3.7.3"
  }
 },
 "nbformat": 4,
 "nbformat_minor": 1
}
