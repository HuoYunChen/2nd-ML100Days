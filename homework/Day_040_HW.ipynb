{
 "cells": [
  {
   "cell_type": "markdown",
   "metadata": {},
   "source": [
    "## [作業重點]\n",
    "使用 Sklearn 中的 Lasso, Ridge 模型，來訓練各種資料集，務必了解送進去模型訓練的**資料型態**為何，也請了解模型中各項參數的意義。\n",
    "\n",
    "機器學習的模型非常多種，但要訓練的資料多半有固定的格式，確保你了解訓練資料的格式為何，這樣在應用新模型時，就能夠最快的上手開始訓練！"
   ]
  },
  {
   "cell_type": "markdown",
   "metadata": {},
   "source": [
    "## 練習時間\n",
    "試著使用 sklearn datasets 的其他資料集 (boston, ...)，來訓練自己的線性迴歸模型，並加上適當的正則話來觀察訓練情形。"
   ]
  },
  {
   "cell_type": "code",
   "execution_count": 145,
   "metadata": {},
   "outputs": [],
   "source": [
    "import numpy as np\n",
    "import matplotlib.pyplot as plt\n",
    "from sklearn import datasets, linear_model\n",
    "from sklearn.model_selection import train_test_split\n",
    "from sklearn.metrics import mean_squared_error, r2_score"
   ]
  },
  {
   "cell_type": "markdown",
   "metadata": {},
   "source": [
    "## LASSO"
   ]
  },
  {
   "cell_type": "code",
   "execution_count": 146,
   "metadata": {},
   "outputs": [],
   "source": [
    "#lASSO 無正則化\n",
    "bostons = datasets.load_boston()\n",
    "\n",
    "x_train, x_test, y_train, y_test = train_test_split(bostons.data, bostons.target, test_size = 0.1, random_state =4)\n",
    "\n",
    "lasso = linear_model.Lasso()\n",
    "\n",
    "lasso.fit(x_train, y_train)\n",
    "\n",
    "y_pred = lasso.predict(x_test)"
   ]
  },
  {
   "cell_type": "code",
   "execution_count": 147,
   "metadata": {},
   "outputs": [
    {
     "name": "stdout",
     "output_type": "stream",
     "text": [
      "lasso coef: [-0.07256167  0.049677   -0.          0.         -0.          0.80504721\n",
      "  0.02330318 -0.68471274  0.26857502 -0.01526236 -0.71722423  0.00834102\n",
      " -0.77160917]\n"
     ]
    }
   ],
   "source": [
    "print(\"lasso coef:\", lasso.coef_)"
   ]
  },
  {
   "cell_type": "code",
   "execution_count": 148,
   "metadata": {},
   "outputs": [
    {
     "name": "stdout",
     "output_type": "stream",
     "text": [
      "Mean squared error: 23.25\n"
     ]
    }
   ],
   "source": [
    "print(\"Mean squared error: %.2f\" % mean_squared_error(y_test, y_pred))"
   ]
  },
  {
   "cell_type": "code",
   "execution_count": 149,
   "metadata": {},
   "outputs": [],
   "source": [
    "#lASSO Alapha = 0.1\n",
    "lasso = linear_model.Lasso(alpha = 0.1)\n",
    "\n",
    "lasso.fit(x_train, y_train)\n",
    "\n",
    "y_pred = lasso.predict(x_test)"
   ]
  },
  {
   "cell_type": "code",
   "execution_count": 150,
   "metadata": {},
   "outputs": [
    {
     "name": "stdout",
     "output_type": "stream",
     "text": [
      "lasso coef: [-0.11429582  0.05148647 -0.0332017   1.22584026 -0.          3.52617451\n",
      " -0.00918222 -1.19406035  0.28697638 -0.01473352 -0.75778148  0.01046719\n",
      " -0.58106   ]\n"
     ]
    }
   ],
   "source": [
    "print(\"lasso coef:\", lasso.coef_)"
   ]
  },
  {
   "cell_type": "code",
   "execution_count": 151,
   "metadata": {},
   "outputs": [
    {
     "name": "stdout",
     "output_type": "stream",
     "text": [
      "Mean squared error: 18.18\n"
     ]
    }
   ],
   "source": [
    "print(\"Mean squared error: %.2f\" % mean_squared_error(y_test, y_pred))"
   ]
  },
  {
   "cell_type": "code",
   "execution_count": 152,
   "metadata": {},
   "outputs": [],
   "source": [
    "#lASSO Alapha = 0.00005\n",
    "lasso = linear_model.Lasso(alpha = 0.00005)\n",
    "\n",
    "lasso.fit(x_train, y_train)\n",
    "\n",
    "y_pred = lasso.predict(x_test)"
   ]
  },
  {
   "cell_type": "code",
   "execution_count": 153,
   "metadata": {},
   "outputs": [
    {
     "name": "stdout",
     "output_type": "stream",
     "text": [
      "lasso coef: [-1.24783876e-01  4.83985079e-02  1.87418049e-02  3.08699410e+00\n",
      " -1.73484879e+01  3.60986697e+00  2.25844031e-03 -1.49355609e+00\n",
      "  3.19414417e-01 -1.27248960e-02 -9.28194589e-01  9.61008122e-03\n",
      " -5.34539015e-01]\n"
     ]
    }
   ],
   "source": [
    "print(\"lasso coef:\", lasso.coef_)"
   ]
  },
  {
   "cell_type": "code",
   "execution_count": 154,
   "metadata": {},
   "outputs": [
    {
     "name": "stdout",
     "output_type": "stream",
     "text": [
      "Mean squared error: 17.03\n"
     ]
    }
   ],
   "source": [
    "print(\"Mean squared error: %.2f\" % mean_squared_error(y_test, y_pred))"
   ]
  },
  {
   "cell_type": "code",
   "execution_count": 155,
   "metadata": {},
   "outputs": [],
   "source": [
    "#lASSO Alapha = 2.0\n",
    "lasso = linear_model.Lasso(alpha = 2.0)\n",
    "\n",
    "lasso.fit(x_train, y_train)\n",
    "\n",
    "y_pred = lasso.predict(x_test)"
   ]
  },
  {
   "cell_type": "code",
   "execution_count": 156,
   "metadata": {},
   "outputs": [
    {
     "name": "stdout",
     "output_type": "stream",
     "text": [
      "lasso coef: [-0.0244362   0.03339487 -0.          0.         -0.          0.\n",
      "  0.04644172 -0.05425583  0.17243465 -0.01166138 -0.5565329   0.00711839\n",
      " -0.82119198]\n"
     ]
    }
   ],
   "source": [
    "print(\"lasso coef:\", lasso.coef_)"
   ]
  },
  {
   "cell_type": "code",
   "execution_count": 157,
   "metadata": {},
   "outputs": [
    {
     "name": "stdout",
     "output_type": "stream",
     "text": [
      "Mean squared error: 28.50\n"
     ]
    }
   ],
   "source": [
    "print(\"Mean squared error: %.2f\" % mean_squared_error(y_test, y_pred))"
   ]
  },
  {
   "cell_type": "markdown",
   "metadata": {},
   "source": [
    "## Ridge Regression"
   ]
  },
  {
   "cell_type": "code",
   "execution_count": 158,
   "metadata": {},
   "outputs": [],
   "source": [
    "## Ridge 無正則化\n",
    "ridge = linear_model.Ridge()\n",
    "\n",
    "ridge.fit(x_train, y_train)\n",
    "\n",
    "y_pred = ridge.predict(x_test)"
   ]
  },
  {
   "cell_type": "code",
   "execution_count": 159,
   "metadata": {},
   "outputs": [
    {
     "name": "stdout",
     "output_type": "stream",
     "text": [
      "Ridge coeff:  [-1.21252383e-01  4.95144936e-02 -1.12401718e-02  2.89351315e+00\n",
      " -1.00608832e+01  3.66023694e+00 -4.37201416e-03 -1.38975681e+00\n",
      "  3.01632305e-01 -1.32209825e-02 -8.52842040e-01  9.96596180e-03\n",
      " -5.44637977e-01]\n"
     ]
    }
   ],
   "source": [
    "print(\"Ridge coeff: \", ridge.coef_)"
   ]
  },
  {
   "cell_type": "code",
   "execution_count": 160,
   "metadata": {},
   "outputs": [
    {
     "name": "stdout",
     "output_type": "stream",
     "text": [
      "Mean squared error: 17.34\n"
     ]
    }
   ],
   "source": [
    "print(\"Mean squared error: %.2f\" % mean_squared_error(y_test, y_pred))"
   ]
  },
  {
   "cell_type": "code",
   "execution_count": 161,
   "metadata": {},
   "outputs": [],
   "source": [
    "## Ridge alpha = 0.1\n",
    "ridge = linear_model.Ridge(alpha = 0.1)\n",
    "\n",
    "ridge.fit(x_train, y_train)\n",
    "\n",
    "y_pred = ridge.predict(x_test)"
   ]
  },
  {
   "cell_type": "code",
   "execution_count": 162,
   "metadata": {},
   "outputs": [
    {
     "name": "stdout",
     "output_type": "stream",
     "text": [
      "Ridge coeff:  [-1.24213728e-01  4.85666495e-02  1.39415979e-02  3.06255833e+00\n",
      " -1.61907863e+01  3.61960624e+00  1.18592552e-03 -1.47707444e+00\n",
      "  3.16498163e-01 -1.27991909e-02 -9.16087572e-01  9.66690828e-03\n",
      " -5.35993678e-01]\n"
     ]
    }
   ],
   "source": [
    "print(\"Ridge coeff: \", ridge.coef_)"
   ]
  },
  {
   "cell_type": "code",
   "execution_count": 163,
   "metadata": {},
   "outputs": [
    {
     "name": "stdout",
     "output_type": "stream",
     "text": [
      "Mean squared error: 17.06\n"
     ]
    }
   ],
   "source": [
    "print(\"Mean squared error: %.2f\" % mean_squared_error(y_test, y_pred))"
   ]
  },
  {
   "cell_type": "code",
   "execution_count": 164,
   "metadata": {},
   "outputs": [],
   "source": [
    "## Ridge alpha = 0.005\n",
    "ridge = linear_model.Ridge(alpha = 0.005)\n",
    "\n",
    "ridge.fit(x_train, y_train)\n",
    "\n",
    "y_pred = ridge.predict(x_test)"
   ]
  },
  {
   "cell_type": "code",
   "execution_count": 165,
   "metadata": {},
   "outputs": [
    {
     "name": "stdout",
     "output_type": "stream",
     "text": [
      "Ridge coeff:  [-1.24762095e-01  4.84052223e-02  1.85507536e-02  3.08668350e+00\n",
      " -1.73027507e+01  3.61035621e+00  2.21418466e-03 -1.49292050e+00\n",
      "  3.19296883e-01 -1.27276929e-02 -9.27712615e-01  9.61233642e-03\n",
      " -5.34586743e-01]\n"
     ]
    }
   ],
   "source": [
    "print(\"Ridge coeff: \", ridge.coef_)"
   ]
  },
  {
   "cell_type": "code",
   "execution_count": 166,
   "metadata": {},
   "outputs": [
    {
     "name": "stdout",
     "output_type": "stream",
     "text": [
      "Mean squared error: 17.03\n"
     ]
    }
   ],
   "source": [
    "print(\"Mean squared error: %.2f\" % mean_squared_error(y_test, y_pred))"
   ]
  },
  {
   "cell_type": "code",
   "execution_count": 167,
   "metadata": {},
   "outputs": [],
   "source": [
    "## Ridge alpha = 2.0\n",
    "ridge = linear_model.Ridge(alpha = 2.0)\n",
    "\n",
    "ridge.fit(x_train, y_train)\n",
    "\n",
    "y_pred = ridge.predict(x_test)"
   ]
  },
  {
   "cell_type": "code",
   "execution_count": 168,
   "metadata": {},
   "outputs": [
    {
     "name": "stdout",
     "output_type": "stream",
     "text": [
      "Ridge coeff:  [-1.19895792e-01  5.00589480e-02 -2.31810617e-02  2.76122337e+00\n",
      " -7.07905249e+00  3.66468216e+00 -6.91385835e-03 -1.34729327e+00\n",
      "  2.95199615e-01 -1.34652149e-02 -8.23272354e-01  1.01083272e-02\n",
      " -5.50139294e-01]\n"
     ]
    }
   ],
   "source": [
    "print(\"Ridge coeff: \", ridge.coef_)"
   ]
  },
  {
   "cell_type": "code",
   "execution_count": 169,
   "metadata": {},
   "outputs": [
    {
     "name": "stdout",
     "output_type": "stream",
     "text": [
      "Mean squared error: 17.57\n"
     ]
    }
   ],
   "source": [
    "print(\"Mean squared error: %.2f\" % mean_squared_error(y_test, y_pred))"
   ]
  },
  {
   "cell_type": "code",
   "execution_count": null,
   "metadata": {},
   "outputs": [],
   "source": []
  }
 ],
 "metadata": {
  "kernelspec": {
   "display_name": "Python 3",
   "language": "python",
   "name": "python3"
  },
  "language_info": {
   "codemirror_mode": {
    "name": "ipython",
    "version": 3
   },
   "file_extension": ".py",
   "mimetype": "text/x-python",
   "name": "python",
   "nbconvert_exporter": "python",
   "pygments_lexer": "ipython3",
   "version": "3.7.0"
  }
 },
 "nbformat": 4,
 "nbformat_minor": 2
}
