{
 "cells": [
  {
   "cell_type": "markdown",
   "metadata": {},
   "source": [
    "## Work\n",
    "1. 試比較 save_best_only 與否的差異\n",
    "2. 請僅存入將 save_weights_only 設定為 True, 並嘗試 reset ipynb 並將模型與權重重新建回並預測 x_test"
   ]
  },
  {
   "cell_type": "code",
   "execution_count": 1,
   "metadata": {},
   "outputs": [
    {
     "name": "stderr",
     "output_type": "stream",
     "text": [
      "Using TensorFlow backend.\n"
     ]
    }
   ],
   "source": [
    "import os\n",
    "import keras\n",
    "\n",
    "# Disable GPU\n",
    "os.environ[\"CUDA_VISIBLE_DEVICES\"] = \"\""
   ]
  },
  {
   "cell_type": "code",
   "execution_count": 2,
   "metadata": {},
   "outputs": [],
   "source": [
    "train, test = keras.datasets.cifar10.load_data()"
   ]
  },
  {
   "cell_type": "code",
   "execution_count": 3,
   "metadata": {},
   "outputs": [],
   "source": [
    "## 資料前處理\n",
    "def preproc_x(x, flatten=True):\n",
    "    x = x / 255.\n",
    "    if flatten:\n",
    "        x = x.reshape((len(x), -1))\n",
    "    return x\n",
    "\n",
    "def preproc_y(y, num_classes=10):\n",
    "    if y.shape[-1] == 1:\n",
    "        y = keras.utils.to_categorical(y, num_classes)\n",
    "    return y    "
   ]
  },
  {
   "cell_type": "code",
   "execution_count": 4,
   "metadata": {},
   "outputs": [],
   "source": [
    "x_train, y_train = train\n",
    "x_test, y_test = test\n",
    "\n",
    "# Preproc the inputs\n",
    "x_train = preproc_x(x_train)\n",
    "x_test = preproc_x(x_test)\n",
    "\n",
    "# Preprc the outputs\n",
    "y_train = preproc_y(y_train)\n",
    "y_test = preproc_y(y_test)"
   ]
  },
  {
   "cell_type": "code",
   "execution_count": 5,
   "metadata": {},
   "outputs": [],
   "source": [
    "from keras.layers import BatchNormalization\n",
    "\n",
    "\"\"\"\n",
    "建立神經網路，並加入 BN layer\n",
    "\"\"\"\n",
    "def build_mlp(input_shape, output_units=10, num_neurons=[512, 256, 128]):\n",
    "    input_layer = keras.layers.Input(input_shape)\n",
    "    \n",
    "    for i, n_units in enumerate(num_neurons):\n",
    "        if i == 0:\n",
    "            x = keras.layers.Dense(units=n_units, \n",
    "                                   activation=\"relu\", \n",
    "                                   name=\"hidden_layer\"+str(i+1))(input_layer)\n",
    "            x = BatchNormalization()(x)\n",
    "        else:\n",
    "            x = keras.layers.Dense(units=n_units, \n",
    "                                   activation=\"relu\", \n",
    "                                   name=\"hidden_layer\"+str(i+1))(x)\n",
    "            x = BatchNormalization()(x)\n",
    "    \n",
    "    out = keras.layers.Dense(units=output_units, activation=\"softmax\", name=\"output\")(x)\n",
    "    \n",
    "    model = keras.models.Model(inputs=[input_layer], outputs=[out])\n",
    "    return model"
   ]
  },
  {
   "cell_type": "code",
   "execution_count": 6,
   "metadata": {},
   "outputs": [],
   "source": [
    "\"\"\"Code Here\n",
    "設定超參數\n",
    "\"\"\"\n",
    "LEARNING_RATE = 1e-3\n",
    "EPOCHS = 50\n",
    "BATCH_SIZE = 1024\n",
    "MOMENTUM = 0.95"
   ]
  },
  {
   "cell_type": "markdown",
   "metadata": {},
   "source": [
    "## save_best_only=True =>保存最好一次的權重"
   ]
  },
  {
   "cell_type": "code",
   "execution_count": 8,
   "metadata": {},
   "outputs": [],
   "source": [
    "# 載入 Callbacks\n",
    "\"\"\"Code Here\n",
    "設定 callbacks: model checkpoint\n",
    "\"\"\"\n",
    "\n",
    "from keras.callbacks import ModelCheckpoint\n",
    "\n",
    "model_ckpt = ModelCheckpoint(filepath=\"./checkpoint_best_true.h5\", \n",
    "                             monitor=\"val_loss\", \n",
    "                             save_best_only=True)"
   ]
  },
  {
   "cell_type": "code",
   "execution_count": 10,
   "metadata": {},
   "outputs": [
    {
     "name": "stdout",
     "output_type": "stream",
     "text": [
      "_________________________________________________________________\n",
      "Layer (type)                 Output Shape              Param #   \n",
      "=================================================================\n",
      "input_2 (InputLayer)         (None, 3072)              0         \n",
      "_________________________________________________________________\n",
      "hidden_layer1 (Dense)        (None, 512)               1573376   \n",
      "_________________________________________________________________\n",
      "batch_normalization_4 (Batch (None, 512)               2048      \n",
      "_________________________________________________________________\n",
      "hidden_layer2 (Dense)        (None, 256)               131328    \n",
      "_________________________________________________________________\n",
      "batch_normalization_5 (Batch (None, 256)               1024      \n",
      "_________________________________________________________________\n",
      "hidden_layer3 (Dense)        (None, 128)               32896     \n",
      "_________________________________________________________________\n",
      "batch_normalization_6 (Batch (None, 128)               512       \n",
      "_________________________________________________________________\n",
      "output (Dense)               (None, 10)                1290      \n",
      "=================================================================\n",
      "Total params: 1,742,474\n",
      "Trainable params: 1,740,682\n",
      "Non-trainable params: 1,792\n",
      "_________________________________________________________________\n",
      "Train on 50000 samples, validate on 10000 samples\n",
      "Epoch 1/50\n",
      "50000/50000 [==============================] - 5s 100us/step - loss: 2.2132 - acc: 0.2708 - val_loss: 2.1648 - val_acc: 0.3228\n",
      "Epoch 2/50\n",
      "50000/50000 [==============================] - 4s 86us/step - loss: 1.7566 - acc: 0.3898 - val_loss: 1.8743 - val_acc: 0.3779\n",
      "Epoch 3/50\n",
      "50000/50000 [==============================] - 4s 85us/step - loss: 1.6252 - acc: 0.4323 - val_loss: 1.7296 - val_acc: 0.4005\n",
      "Epoch 4/50\n",
      "50000/50000 [==============================] - 4s 89us/step - loss: 1.5472 - acc: 0.4589 - val_loss: 1.6379 - val_acc: 0.4276\n",
      "Epoch 5/50\n",
      "50000/50000 [==============================] - 4s 87us/step - loss: 1.4930 - acc: 0.4758 - val_loss: 1.6001 - val_acc: 0.4376\n",
      "Epoch 6/50\n",
      "50000/50000 [==============================] - 4s 90us/step - loss: 1.4460 - acc: 0.4938 - val_loss: 1.5729 - val_acc: 0.4451\n",
      "Epoch 7/50\n",
      "50000/50000 [==============================] - 4s 84us/step - loss: 1.4046 - acc: 0.5093 - val_loss: 1.5532 - val_acc: 0.4520\n",
      "Epoch 8/50\n",
      "50000/50000 [==============================] - 4s 86us/step - loss: 1.3691 - acc: 0.5232 - val_loss: 1.5336 - val_acc: 0.4605\n",
      "Epoch 9/50\n",
      "50000/50000 [==============================] - 5s 92us/step - loss: 1.3362 - acc: 0.5358 - val_loss: 1.5375 - val_acc: 0.4606\n",
      "Epoch 10/50\n",
      "50000/50000 [==============================] - 4s 84us/step - loss: 1.3055 - acc: 0.5456 - val_loss: 1.5070 - val_acc: 0.4613\n",
      "Epoch 11/50\n",
      "50000/50000 [==============================] - 4s 84us/step - loss: 1.2774 - acc: 0.5572 - val_loss: 1.4967 - val_acc: 0.4694\n",
      "Epoch 12/50\n",
      "50000/50000 [==============================] - 4s 84us/step - loss: 1.2476 - acc: 0.5671 - val_loss: 1.4854 - val_acc: 0.4764\n",
      "Epoch 13/50\n",
      "50000/50000 [==============================] - 4s 84us/step - loss: 1.2210 - acc: 0.5787 - val_loss: 1.4762 - val_acc: 0.4797\n",
      "Epoch 14/50\n",
      "50000/50000 [==============================] - 4s 84us/step - loss: 1.1959 - acc: 0.5866 - val_loss: 1.4800 - val_acc: 0.4761\n",
      "Epoch 15/50\n",
      "50000/50000 [==============================] - 4s 84us/step - loss: 1.1694 - acc: 0.5950 - val_loss: 1.4794 - val_acc: 0.4804\n",
      "Epoch 16/50\n",
      "50000/50000 [==============================] - 4s 83us/step - loss: 1.1462 - acc: 0.6039 - val_loss: 1.4627 - val_acc: 0.4871\n",
      "Epoch 17/50\n",
      "50000/50000 [==============================] - 4s 83us/step - loss: 1.1221 - acc: 0.6147 - val_loss: 1.4595 - val_acc: 0.4885\n",
      "Epoch 18/50\n",
      "50000/50000 [==============================] - 4s 84us/step - loss: 1.0988 - acc: 0.6230 - val_loss: 1.4651 - val_acc: 0.4838\n",
      "Epoch 19/50\n",
      "50000/50000 [==============================] - 4s 84us/step - loss: 1.0739 - acc: 0.6334 - val_loss: 1.4523 - val_acc: 0.4900\n",
      "Epoch 20/50\n",
      "50000/50000 [==============================] - 4s 86us/step - loss: 1.0517 - acc: 0.6426 - val_loss: 1.4628 - val_acc: 0.4887\n",
      "Epoch 21/50\n",
      "50000/50000 [==============================] - 4s 85us/step - loss: 1.0292 - acc: 0.6516 - val_loss: 1.4677 - val_acc: 0.4886\n",
      "Epoch 22/50\n",
      "50000/50000 [==============================] - 4s 90us/step - loss: 1.0104 - acc: 0.6585 - val_loss: 1.4648 - val_acc: 0.4910\n",
      "Epoch 23/50\n",
      "50000/50000 [==============================] - 4s 90us/step - loss: 0.9858 - acc: 0.6683 - val_loss: 1.4765 - val_acc: 0.4858\n",
      "Epoch 24/50\n",
      "50000/50000 [==============================] - 4s 89us/step - loss: 0.9645 - acc: 0.6767 - val_loss: 1.4708 - val_acc: 0.4888\n",
      "Epoch 25/50\n",
      "50000/50000 [==============================] - 4s 86us/step - loss: 0.9451 - acc: 0.6835 - val_loss: 1.4741 - val_acc: 0.4940\n",
      "Epoch 26/50\n",
      "50000/50000 [==============================] - 5s 90us/step - loss: 0.9230 - acc: 0.6914 - val_loss: 1.4742 - val_acc: 0.4936\n",
      "Epoch 27/50\n",
      "50000/50000 [==============================] - 4s 89us/step - loss: 0.9022 - acc: 0.7011 - val_loss: 1.4808 - val_acc: 0.4930\n",
      "Epoch 28/50\n",
      "50000/50000 [==============================] - 4s 89us/step - loss: 0.8829 - acc: 0.7101 - val_loss: 1.4826 - val_acc: 0.4957\n",
      "Epoch 29/50\n",
      "50000/50000 [==============================] - 4s 88us/step - loss: 0.8611 - acc: 0.7167 - val_loss: 1.4925 - val_acc: 0.4949\n",
      "Epoch 30/50\n",
      "50000/50000 [==============================] - 5s 91us/step - loss: 0.8423 - acc: 0.7236 - val_loss: 1.4821 - val_acc: 0.4946\n",
      "Epoch 31/50\n",
      "50000/50000 [==============================] - 4s 90us/step - loss: 0.8220 - acc: 0.7327 - val_loss: 1.5053 - val_acc: 0.4890\n",
      "Epoch 32/50\n",
      "50000/50000 [==============================] - 4s 89us/step - loss: 0.8013 - acc: 0.7414 - val_loss: 1.5129 - val_acc: 0.4920\n",
      "Epoch 33/50\n",
      "50000/50000 [==============================] - 4s 87us/step - loss: 0.7802 - acc: 0.7486 - val_loss: 1.5193 - val_acc: 0.4902\n",
      "Epoch 34/50\n",
      "50000/50000 [==============================] - 4s 87us/step - loss: 0.7620 - acc: 0.7549 - val_loss: 1.5147 - val_acc: 0.4910\n",
      "Epoch 35/50\n",
      "50000/50000 [==============================] - 4s 87us/step - loss: 0.7427 - acc: 0.7639 - val_loss: 1.5282 - val_acc: 0.4919\n",
      "Epoch 36/50\n",
      "50000/50000 [==============================] - 4s 89us/step - loss: 0.7254 - acc: 0.7703 - val_loss: 1.5293 - val_acc: 0.4962\n",
      "Epoch 37/50\n",
      "50000/50000 [==============================] - 4s 85us/step - loss: 0.7048 - acc: 0.7788 - val_loss: 1.5440 - val_acc: 0.4926\n",
      "Epoch 38/50\n",
      "50000/50000 [==============================] - 4s 87us/step - loss: 0.6866 - acc: 0.7876 - val_loss: 1.5500 - val_acc: 0.4928\n",
      "Epoch 39/50\n",
      "50000/50000 [==============================] - 4s 85us/step - loss: 0.6687 - acc: 0.7932 - val_loss: 1.5529 - val_acc: 0.4905\n",
      "Epoch 40/50\n",
      "50000/50000 [==============================] - 4s 87us/step - loss: 0.6499 - acc: 0.8008 - val_loss: 1.5714 - val_acc: 0.4958\n",
      "Epoch 41/50\n",
      "50000/50000 [==============================] - 5s 91us/step - loss: 0.6320 - acc: 0.8078 - val_loss: 1.5742 - val_acc: 0.4909\n",
      "Epoch 42/50\n",
      "50000/50000 [==============================] - 5s 91us/step - loss: 0.6130 - acc: 0.8154 - val_loss: 1.5885 - val_acc: 0.4855\n",
      "Epoch 43/50\n",
      "50000/50000 [==============================] - 4s 89us/step - loss: 0.5962 - acc: 0.8211 - val_loss: 1.6002 - val_acc: 0.4871\n",
      "Epoch 44/50\n",
      "50000/50000 [==============================] - 5s 90us/step - loss: 0.5779 - acc: 0.8309 - val_loss: 1.6031 - val_acc: 0.4893\n",
      "Epoch 45/50\n",
      "50000/50000 [==============================] - 4s 84us/step - loss: 0.5594 - acc: 0.8375 - val_loss: 1.6181 - val_acc: 0.4902\n",
      "Epoch 46/50\n",
      "50000/50000 [==============================] - 4s 89us/step - loss: 0.5440 - acc: 0.8427 - val_loss: 1.6622 - val_acc: 0.4891\n",
      "Epoch 47/50\n",
      "50000/50000 [==============================] - 4s 90us/step - loss: 0.5263 - acc: 0.8504 - val_loss: 1.6372 - val_acc: 0.4904\n",
      "Epoch 48/50\n",
      "50000/50000 [==============================] - 4s 88us/step - loss: 0.5095 - acc: 0.8567 - val_loss: 1.6815 - val_acc: 0.4877\n",
      "Epoch 49/50\n",
      "50000/50000 [==============================] - 4s 86us/step - loss: 0.4927 - acc: 0.8624 - val_loss: 1.6635 - val_acc: 0.4889\n"
     ]
    },
    {
     "name": "stdout",
     "output_type": "stream",
     "text": [
      "Epoch 50/50\n",
      "50000/50000 [==============================] - 4s 86us/step - loss: 0.4779 - acc: 0.8688 - val_loss: 1.6969 - val_acc: 0.4840\n",
      "10000/10000 [==============================] - 1s 101us/step\n"
     ]
    }
   ],
   "source": [
    "model = build_mlp(input_shape=x_train.shape[1:])\n",
    "model.summary()\n",
    "optimizer = keras.optimizers.SGD(lr=LEARNING_RATE, nesterov=True, momentum=MOMENTUM)\n",
    "model.compile(loss=\"categorical_crossentropy\", metrics=[\"accuracy\"], optimizer=optimizer)\n",
    "\n",
    "model.fit(x_train, y_train, \n",
    "          epochs=EPOCHS, \n",
    "          batch_size=BATCH_SIZE, \n",
    "          validation_data=(x_test, y_test), \n",
    "          shuffle=True,\n",
    "          callbacks=[model_ckpt]\n",
    "         )\n",
    "\n",
    "# Collect results\n",
    "train_loss = model.history.history[\"loss\"]\n",
    "valid_loss = model.history.history[\"val_loss\"]\n",
    "train_acc = model.history.history[\"acc\"]\n",
    "valid_acc = model.history.history[\"val_acc\"]\n",
    "\n",
    "# Load back\n",
    "model = keras.models.load_model(\"./checkpoint_best_true.h5\")\n",
    "loss_loadback, acc_loadback = model.evaluate(x_test, y_test)"
   ]
  },
  {
   "cell_type": "code",
   "execution_count": 11,
   "metadata": {
    "scrolled": true
   },
   "outputs": [
    {
     "data": {
      "image/png": "[encoded data removed]",
      "text/plain": [
       "<Figure size 432x288 with 1 Axes>"
      ]
     },
     "metadata": {
      "needs_background": "light"
     },
     "output_type": "display_data"
    },
    {
     "data": {
      "image/png": "[encoded data removed]",
      "text/plain": [
       "<Figure size 432x288 with 1 Axes>"
      ]
     },
     "metadata": {
      "needs_background": "light"
     },
     "output_type": "display_data"
    }
   ],
   "source": [
    "import matplotlib.pyplot as plt\n",
    "%matplotlib inline\n",
    "\"\"\"Code Here\n",
    "將結果繪出\n",
    "\"\"\"\n",
    "import matplotlib.pyplot as plt\n",
    "%matplotlib inline\n",
    "\n",
    "plt.plot(range(len(train_loss)), train_loss, label=\"train loss\")\n",
    "plt.plot(range(len(valid_loss)), valid_loss, label=\"valid loss\")\n",
    "plt.hlines(y=loss_loadback, xmin=0, xmax=len(train_loss), colors='r', linestyles='--')\n",
    "plt.legend()\n",
    "plt.title(\"Loss\")\n",
    "plt.show()\n",
    "\n",
    "plt.plot(range(len(train_acc)), train_acc, label=\"train accuracy\")\n",
    "plt.plot(range(len(valid_acc)), valid_acc, label=\"valid accuracy\")\n",
    "plt.hlines(y=acc_loadback, xmin=0, xmax=len(train_loss), colors='r', linestyles='--')\n",
    "plt.legend()\n",
    "plt.title(\"Accuracy\")\n",
    "plt.show()"
   ]
  },
  {
   "cell_type": "markdown",
   "metadata": {},
   "source": [
    "## save_best_only=False => 保存最後一次訓練的權重"
   ]
  },
  {
   "cell_type": "code",
   "execution_count": 12,
   "metadata": {},
   "outputs": [],
   "source": [
    "# 載入 Callbacks\n",
    "\"\"\"Code Here\n",
    "設定 callbacks: model checkpoint\n",
    "\"\"\"\n",
    "\n",
    "from keras.callbacks import ModelCheckpoint\n",
    "\n",
    "model_ckpt = ModelCheckpoint(filepath=\"./checkpoint_best_false.h5\", \n",
    "                             monitor=\"val_loss\", \n",
    "                             save_best_only=False)"
   ]
  },
  {
   "cell_type": "code",
   "execution_count": 14,
   "metadata": {},
   "outputs": [
    {
     "name": "stdout",
     "output_type": "stream",
     "text": [
      "_________________________________________________________________\n",
      "Layer (type)                 Output Shape              Param #   \n",
      "=================================================================\n",
      "input_4 (InputLayer)         (None, 3072)              0         \n",
      "_________________________________________________________________\n",
      "hidden_layer1 (Dense)        (None, 512)               1573376   \n",
      "_________________________________________________________________\n",
      "batch_normalization_10 (Batc (None, 512)               2048      \n",
      "_________________________________________________________________\n",
      "hidden_layer2 (Dense)        (None, 256)               131328    \n",
      "_________________________________________________________________\n",
      "batch_normalization_11 (Batc (None, 256)               1024      \n",
      "_________________________________________________________________\n",
      "hidden_layer3 (Dense)        (None, 128)               32896     \n",
      "_________________________________________________________________\n",
      "batch_normalization_12 (Batc (None, 128)               512       \n",
      "_________________________________________________________________\n",
      "output (Dense)               (None, 10)                1290      \n",
      "=================================================================\n",
      "Total params: 1,742,474\n",
      "Trainable params: 1,740,682\n",
      "Non-trainable params: 1,792\n",
      "_________________________________________________________________\n",
      "Train on 50000 samples, validate on 10000 samples\n",
      "Epoch 1/50\n",
      "50000/50000 [==============================] - 6s 113us/step - loss: 2.2377 - acc: 0.2696 - val_loss: 2.1698 - val_acc: 0.3143\n",
      "Epoch 2/50\n",
      "50000/50000 [==============================] - 4s 89us/step - loss: 1.7529 - acc: 0.3915 - val_loss: 1.8161 - val_acc: 0.3793\n",
      "Epoch 3/50\n",
      "50000/50000 [==============================] - 4s 86us/step - loss: 1.6274 - acc: 0.4318 - val_loss: 1.6908 - val_acc: 0.4095\n",
      "Epoch 4/50\n",
      "50000/50000 [==============================] - 4s 85us/step - loss: 1.5547 - acc: 0.4563 - val_loss: 1.6438 - val_acc: 0.4249\n",
      "Epoch 5/50\n",
      "50000/50000 [==============================] - 4s 86us/step - loss: 1.4992 - acc: 0.4759 - val_loss: 1.6066 - val_acc: 0.4348\n",
      "Epoch 6/50\n",
      "50000/50000 [==============================] - 4s 86us/step - loss: 1.4547 - acc: 0.4917 - val_loss: 1.5776 - val_acc: 0.4436\n",
      "Epoch 7/50\n",
      "50000/50000 [==============================] - 4s 85us/step - loss: 1.4172 - acc: 0.5056 - val_loss: 1.5551 - val_acc: 0.4470\n",
      "Epoch 8/50\n",
      "50000/50000 [==============================] - 4s 86us/step - loss: 1.3805 - acc: 0.5202 - val_loss: 1.5426 - val_acc: 0.4571\n",
      "Epoch 9/50\n",
      "50000/50000 [==============================] - 4s 85us/step - loss: 1.3501 - acc: 0.5301 - val_loss: 1.5203 - val_acc: 0.4627\n",
      "Epoch 10/50\n",
      "50000/50000 [==============================] - 4s 85us/step - loss: 1.3191 - acc: 0.5415 - val_loss: 1.5063 - val_acc: 0.4707\n",
      "Epoch 11/50\n",
      "50000/50000 [==============================] - 4s 85us/step - loss: 1.2926 - acc: 0.5525 - val_loss: 1.4982 - val_acc: 0.4730\n",
      "Epoch 12/50\n",
      "50000/50000 [==============================] - 4s 86us/step - loss: 1.2662 - acc: 0.5633 - val_loss: 1.4886 - val_acc: 0.4778\n",
      "Epoch 13/50\n",
      "50000/50000 [==============================] - 4s 85us/step - loss: 1.2401 - acc: 0.5729 - val_loss: 1.4756 - val_acc: 0.4790\n",
      "Epoch 14/50\n",
      "50000/50000 [==============================] - 4s 86us/step - loss: 1.2162 - acc: 0.5829 - val_loss: 1.4831 - val_acc: 0.4776\n",
      "Epoch 15/50\n",
      "50000/50000 [==============================] - 4s 86us/step - loss: 1.1934 - acc: 0.5908 - val_loss: 1.4723 - val_acc: 0.4830\n",
      "Epoch 16/50\n",
      "50000/50000 [==============================] - 4s 86us/step - loss: 1.1698 - acc: 0.5973 - val_loss: 1.4684 - val_acc: 0.4838\n",
      "Epoch 17/50\n",
      "50000/50000 [==============================] - 4s 86us/step - loss: 1.1495 - acc: 0.6048 - val_loss: 1.4681 - val_acc: 0.4853\n",
      "Epoch 18/50\n",
      "50000/50000 [==============================] - 4s 86us/step - loss: 1.1249 - acc: 0.6164 - val_loss: 1.4620 - val_acc: 0.4862\n",
      "Epoch 19/50\n",
      "50000/50000 [==============================] - 4s 87us/step - loss: 1.1033 - acc: 0.6240 - val_loss: 1.4636 - val_acc: 0.4939\n",
      "Epoch 20/50\n",
      "50000/50000 [==============================] - 4s 86us/step - loss: 1.0829 - acc: 0.6319 - val_loss: 1.4680 - val_acc: 0.4895\n",
      "Epoch 21/50\n",
      "50000/50000 [==============================] - 4s 86us/step - loss: 1.0610 - acc: 0.6397 - val_loss: 1.4590 - val_acc: 0.4872\n",
      "Epoch 22/50\n",
      "50000/50000 [==============================] - 4s 87us/step - loss: 1.0405 - acc: 0.6474 - val_loss: 1.4657 - val_acc: 0.4974\n",
      "Epoch 23/50\n",
      "50000/50000 [==============================] - 4s 86us/step - loss: 1.0209 - acc: 0.6544 - val_loss: 1.4606 - val_acc: 0.4936\n",
      "Epoch 24/50\n",
      "50000/50000 [==============================] - 4s 86us/step - loss: 1.0005 - acc: 0.6632 - val_loss: 1.4589 - val_acc: 0.4949\n",
      "Epoch 25/50\n",
      "50000/50000 [==============================] - 4s 86us/step - loss: 0.9800 - acc: 0.6694 - val_loss: 1.4570 - val_acc: 0.4949\n",
      "Epoch 26/50\n",
      "50000/50000 [==============================] - 4s 87us/step - loss: 0.9601 - acc: 0.6781 - val_loss: 1.4646 - val_acc: 0.4979\n",
      "Epoch 27/50\n",
      "50000/50000 [==============================] - 4s 86us/step - loss: 0.9409 - acc: 0.6851 - val_loss: 1.4663 - val_acc: 0.4953\n",
      "Epoch 28/50\n",
      "50000/50000 [==============================] - 4s 86us/step - loss: 0.9204 - acc: 0.6928 - val_loss: 1.4733 - val_acc: 0.4940\n",
      "Epoch 29/50\n",
      "50000/50000 [==============================] - 4s 86us/step - loss: 0.9025 - acc: 0.7002 - val_loss: 1.4769 - val_acc: 0.4939\n",
      "Epoch 30/50\n",
      "50000/50000 [==============================] - 4s 86us/step - loss: 0.8830 - acc: 0.7065 - val_loss: 1.4805 - val_acc: 0.4950\n",
      "Epoch 31/50\n",
      "50000/50000 [==============================] - 4s 86us/step - loss: 0.8647 - acc: 0.7156 - val_loss: 1.4910 - val_acc: 0.4917\n",
      "Epoch 32/50\n",
      "50000/50000 [==============================] - 4s 86us/step - loss: 0.8436 - acc: 0.7233 - val_loss: 1.4924 - val_acc: 0.4934\n",
      "Epoch 33/50\n",
      "50000/50000 [==============================] - 4s 87us/step - loss: 0.8266 - acc: 0.7307 - val_loss: 1.4948 - val_acc: 0.4961\n",
      "Epoch 34/50\n",
      "50000/50000 [==============================] - 4s 86us/step - loss: 0.8083 - acc: 0.7361 - val_loss: 1.5158 - val_acc: 0.4936\n",
      "Epoch 35/50\n",
      "50000/50000 [==============================] - 4s 86us/step - loss: 0.7882 - acc: 0.7459 - val_loss: 1.5061 - val_acc: 0.4988\n",
      "Epoch 36/50\n",
      "50000/50000 [==============================] - 4s 86us/step - loss: 0.7707 - acc: 0.7511 - val_loss: 1.5073 - val_acc: 0.4951\n",
      "Epoch 37/50\n",
      "50000/50000 [==============================] - 4s 86us/step - loss: 0.7503 - acc: 0.7591 - val_loss: 1.5353 - val_acc: 0.4957\n",
      "Epoch 38/50\n",
      "50000/50000 [==============================] - 4s 86us/step - loss: 0.7334 - acc: 0.7667 - val_loss: 1.5399 - val_acc: 0.4983\n",
      "Epoch 39/50\n",
      "50000/50000 [==============================] - 4s 87us/step - loss: 0.7150 - acc: 0.7736 - val_loss: 1.5538 - val_acc: 0.4910\n",
      "Epoch 40/50\n",
      "50000/50000 [==============================] - 4s 87us/step - loss: 0.6979 - acc: 0.7796 - val_loss: 1.5801 - val_acc: 0.4815\n",
      "Epoch 41/50\n",
      "50000/50000 [==============================] - 4s 87us/step - loss: 0.6791 - acc: 0.7860 - val_loss: 1.5523 - val_acc: 0.4927\n",
      "Epoch 42/50\n",
      "50000/50000 [==============================] - 4s 87us/step - loss: 0.6618 - acc: 0.7944 - val_loss: 1.5636 - val_acc: 0.4950\n",
      "Epoch 43/50\n",
      "50000/50000 [==============================] - 4s 86us/step - loss: 0.6442 - acc: 0.8029 - val_loss: 1.5925 - val_acc: 0.4964\n",
      "Epoch 44/50\n",
      "50000/50000 [==============================] - 4s 86us/step - loss: 0.6247 - acc: 0.8083 - val_loss: 1.5853 - val_acc: 0.4930\n",
      "Epoch 45/50\n",
      "50000/50000 [==============================] - 4s 85us/step - loss: 0.6071 - acc: 0.8172 - val_loss: 1.6025 - val_acc: 0.4892\n",
      "Epoch 46/50\n",
      "50000/50000 [==============================] - 4s 86us/step - loss: 0.5912 - acc: 0.8239 - val_loss: 1.6109 - val_acc: 0.4941\n",
      "Epoch 47/50\n",
      "50000/50000 [==============================] - 4s 86us/step - loss: 0.5736 - acc: 0.8303 - val_loss: 1.6223 - val_acc: 0.4934\n",
      "Epoch 48/50\n",
      "50000/50000 [==============================] - 4s 85us/step - loss: 0.5582 - acc: 0.8362 - val_loss: 1.6531 - val_acc: 0.4863\n",
      "Epoch 49/50\n",
      "50000/50000 [==============================] - 4s 86us/step - loss: 0.5421 - acc: 0.8432 - val_loss: 1.6422 - val_acc: 0.4946\n"
     ]
    },
    {
     "name": "stdout",
     "output_type": "stream",
     "text": [
      "Epoch 50/50\n",
      "50000/50000 [==============================] - 4s 85us/step - loss: 0.5245 - acc: 0.8502 - val_loss: 1.6655 - val_acc: 0.4886\n"
     ]
    }
   ],
   "source": [
    "model = build_mlp(input_shape=x_train.shape[1:])\n",
    "model.summary()\n",
    "optimizer = keras.optimizers.SGD(lr=LEARNING_RATE, nesterov=True, momentum=MOMENTUM)\n",
    "model.compile(loss=\"categorical_crossentropy\", metrics=[\"accuracy\"], optimizer=optimizer)\n",
    "\n",
    "model.fit(x_train, y_train, \n",
    "          epochs=EPOCHS, \n",
    "          batch_size=BATCH_SIZE, \n",
    "          validation_data=(x_test, y_test), \n",
    "          shuffle=True,\n",
    "          callbacks=[model_ckpt]\n",
    "         )\n",
    "\n",
    "# Collect results\n",
    "train_loss = model.history.history[\"loss\"]\n",
    "valid_loss = model.history.history[\"val_loss\"]\n",
    "train_acc = model.history.history[\"acc\"]\n",
    "valid_acc = model.history.history[\"val_acc\"]"
   ]
  },
  {
   "cell_type": "code",
   "execution_count": 15,
   "metadata": {},
   "outputs": [
    {
     "name": "stdout",
     "output_type": "stream",
     "text": [
      "10000/10000 [==============================] - 1s 110us/step\n"
     ]
    }
   ],
   "source": [
    "# Load back\n",
    "model = keras.models.load_model(\"./checkpoint_best_false.h5\")\n",
    "loss_loadback, acc_loadback = model.evaluate(x_test, y_test)"
   ]
  },
  {
   "cell_type": "code",
   "execution_count": 16,
   "metadata": {
    "scrolled": true
   },
   "outputs": [
    {
     "data": {
      "image/png": "[encoded data removed]",
      "text/plain": [
       "<Figure size 432x288 with 1 Axes>"
      ]
     },
     "metadata": {
      "needs_background": "light"
     },
     "output_type": "display_data"
    },
    {
     "data": {
      "image/png": "[encoded data removed]",
      "text/plain": [
       "<Figure size 432x288 with 1 Axes>"
      ]
     },
     "metadata": {
      "needs_background": "light"
     },
     "output_type": "display_data"
    }
   ],
   "source": [
    "import matplotlib.pyplot as plt\n",
    "%matplotlib inline\n",
    "\"\"\"Code Here\n",
    "將結果繪出\n",
    "\"\"\"\n",
    "import matplotlib.pyplot as plt\n",
    "%matplotlib inline\n",
    "\n",
    "plt.plot(range(len(train_loss)), train_loss, label=\"train loss\")\n",
    "plt.plot(range(len(valid_loss)), valid_loss, label=\"valid loss\")\n",
    "plt.hlines(y=loss_loadback, xmin=0, xmax=len(train_loss), colors='r', linestyles='--')\n",
    "plt.legend()\n",
    "plt.title(\"Loss\")\n",
    "plt.show()\n",
    "\n",
    "plt.plot(range(len(train_acc)), train_acc, label=\"train accuracy\")\n",
    "plt.plot(range(len(valid_acc)), valid_acc, label=\"valid accuracy\")\n",
    "plt.hlines(y=acc_loadback, xmin=0, xmax=len(train_loss), colors='r', linestyles='--')\n",
    "plt.legend()\n",
    "plt.title(\"Accuracy\")\n",
    "plt.show()"
   ]
  },
  {
   "cell_type": "code",
   "execution_count": 17,
   "metadata": {},
   "outputs": [
    {
     "data": {
      "text/plain": [
       "1.6655365516662597"
      ]
     },
     "execution_count": 17,
     "metadata": {},
     "output_type": "execute_result"
    }
   ],
   "source": [
    "loss_loadback"
   ]
  },
  {
   "cell_type": "code",
   "execution_count": 18,
   "metadata": {},
   "outputs": [
    {
     "data": {
      "text/plain": [
       "0.4886"
      ]
     },
     "execution_count": 18,
     "metadata": {},
     "output_type": "execute_result"
    }
   ],
   "source": [
    "acc_loadback"
   ]
  },
  {
   "cell_type": "markdown",
   "metadata": {},
   "source": [
    "## save_weights_only = True"
   ]
  },
  {
   "cell_type": "code",
   "execution_count": 20,
   "metadata": {},
   "outputs": [],
   "source": [
    "# 載入 Callbacks\n",
    "\"\"\"Code Here\n",
    "設定 callbacks: model checkpoint\n",
    "\"\"\"\n",
    "\n",
    "from keras.callbacks import ModelCheckpoint\n",
    "\n",
    "model_ckpt = ModelCheckpoint(filepath=\"./checkpoint_weights_only.h5\", \n",
    "                             monitor=\"val_loss\", \n",
    "                             save_best_only=True,\n",
    "                            save_weights_only=False)"
   ]
  },
  {
   "cell_type": "code",
   "execution_count": 21,
   "metadata": {},
   "outputs": [
    {
     "name": "stdout",
     "output_type": "stream",
     "text": [
      "_________________________________________________________________\n",
      "Layer (type)                 Output Shape              Param #   \n",
      "=================================================================\n",
      "input_5 (InputLayer)         (None, 3072)              0         \n",
      "_________________________________________________________________\n",
      "hidden_layer1 (Dense)        (None, 512)               1573376   \n",
      "_________________________________________________________________\n",
      "batch_normalization_13 (Batc (None, 512)               2048      \n",
      "_________________________________________________________________\n",
      "hidden_layer2 (Dense)        (None, 256)               131328    \n",
      "_________________________________________________________________\n",
      "batch_normalization_14 (Batc (None, 256)               1024      \n",
      "_________________________________________________________________\n",
      "hidden_layer3 (Dense)        (None, 128)               32896     \n",
      "_________________________________________________________________\n",
      "batch_normalization_15 (Batc (None, 128)               512       \n",
      "_________________________________________________________________\n",
      "output (Dense)               (None, 10)                1290      \n",
      "=================================================================\n",
      "Total params: 1,742,474\n",
      "Trainable params: 1,740,682\n",
      "Non-trainable params: 1,792\n",
      "_________________________________________________________________\n",
      "Train on 50000 samples, validate on 10000 samples\n",
      "Epoch 1/50\n",
      "50000/50000 [==============================] - 8s 152us/step - loss: 2.2322 - acc: 0.2643 - val_loss: 2.0906 - val_acc: 0.3185\n",
      "Epoch 2/50\n",
      "50000/50000 [==============================] - 5s 93us/step - loss: 1.7578 - acc: 0.3882 - val_loss: 1.8400 - val_acc: 0.3773\n",
      "Epoch 3/50\n",
      "50000/50000 [==============================] - 4s 89us/step - loss: 1.6322 - acc: 0.4287 - val_loss: 1.7261 - val_acc: 0.3945\n",
      "Epoch 4/50\n",
      "50000/50000 [==============================] - 4s 88us/step - loss: 1.5600 - acc: 0.4543 - val_loss: 1.6335 - val_acc: 0.4269\n",
      "Epoch 5/50\n",
      "50000/50000 [==============================] - 4s 87us/step - loss: 1.5038 - acc: 0.4748 - val_loss: 1.5923 - val_acc: 0.4392\n",
      "Epoch 6/50\n",
      "50000/50000 [==============================] - 4s 87us/step - loss: 1.4579 - acc: 0.4899 - val_loss: 1.5643 - val_acc: 0.4455\n",
      "Epoch 7/50\n",
      "50000/50000 [==============================] - 4s 86us/step - loss: 1.4191 - acc: 0.5048 - val_loss: 1.5443 - val_acc: 0.4539\n",
      "Epoch 8/50\n",
      "50000/50000 [==============================] - 4s 88us/step - loss: 1.3828 - acc: 0.5178 - val_loss: 1.5222 - val_acc: 0.4653\n",
      "Epoch 9/50\n",
      "50000/50000 [==============================] - 4s 87us/step - loss: 1.3490 - acc: 0.5298 - val_loss: 1.5118 - val_acc: 0.4670\n",
      "Epoch 10/50\n",
      "50000/50000 [==============================] - 4s 87us/step - loss: 1.3178 - acc: 0.5411 - val_loss: 1.4949 - val_acc: 0.4693\n",
      "Epoch 11/50\n",
      "50000/50000 [==============================] - 4s 89us/step - loss: 1.2905 - acc: 0.5527 - val_loss: 1.4831 - val_acc: 0.4766\n",
      "Epoch 12/50\n",
      "50000/50000 [==============================] - 4s 87us/step - loss: 1.2638 - acc: 0.5617 - val_loss: 1.4867 - val_acc: 0.4805\n",
      "Epoch 13/50\n",
      "50000/50000 [==============================] - 4s 87us/step - loss: 1.2384 - acc: 0.5692 - val_loss: 1.4697 - val_acc: 0.4784\n",
      "Epoch 14/50\n",
      "50000/50000 [==============================] - 4s 86us/step - loss: 1.2141 - acc: 0.5805 - val_loss: 1.4618 - val_acc: 0.4833\n",
      "Epoch 15/50\n",
      "50000/50000 [==============================] - 4s 86us/step - loss: 1.1906 - acc: 0.5873 - val_loss: 1.4682 - val_acc: 0.4841\n",
      "Epoch 16/50\n",
      "50000/50000 [==============================] - 4s 86us/step - loss: 1.1665 - acc: 0.5982 - val_loss: 1.4563 - val_acc: 0.4841\n",
      "Epoch 17/50\n",
      "50000/50000 [==============================] - 4s 86us/step - loss: 1.1415 - acc: 0.6065 - val_loss: 1.4502 - val_acc: 0.4875\n",
      "Epoch 18/50\n",
      "50000/50000 [==============================] - 5s 95us/step - loss: 1.1211 - acc: 0.6167 - val_loss: 1.4488 - val_acc: 0.4895\n",
      "Epoch 19/50\n",
      "50000/50000 [==============================] - 5s 91us/step - loss: 1.0980 - acc: 0.6232 - val_loss: 1.4418 - val_acc: 0.4969\n",
      "Epoch 20/50\n",
      "50000/50000 [==============================] - 4s 86us/step - loss: 1.0776 - acc: 0.6313 - val_loss: 1.4452 - val_acc: 0.4979\n",
      "Epoch 21/50\n",
      "50000/50000 [==============================] - 4s 87us/step - loss: 1.0559 - acc: 0.6397 - val_loss: 1.4473 - val_acc: 0.4995\n",
      "Epoch 22/50\n",
      "50000/50000 [==============================] - 4s 87us/step - loss: 1.0363 - acc: 0.6465 - val_loss: 1.4503 - val_acc: 0.4948\n",
      "Epoch 23/50\n",
      "50000/50000 [==============================] - 4s 87us/step - loss: 1.0156 - acc: 0.6559 - val_loss: 1.4535 - val_acc: 0.4968\n",
      "Epoch 24/50\n",
      "50000/50000 [==============================] - 4s 88us/step - loss: 0.9953 - acc: 0.6627 - val_loss: 1.4580 - val_acc: 0.4963\n",
      "Epoch 25/50\n",
      "50000/50000 [==============================] - 4s 87us/step - loss: 0.9742 - acc: 0.6711 - val_loss: 1.4660 - val_acc: 0.4939\n",
      "Epoch 26/50\n",
      "50000/50000 [==============================] - 4s 86us/step - loss: 0.9545 - acc: 0.6798 - val_loss: 1.4631 - val_acc: 0.4968\n",
      "Epoch 27/50\n",
      "50000/50000 [==============================] - 4s 86us/step - loss: 0.9347 - acc: 0.6862 - val_loss: 1.4691 - val_acc: 0.4975\n",
      "Epoch 28/50\n",
      "50000/50000 [==============================] - 4s 87us/step - loss: 0.9154 - acc: 0.6955 - val_loss: 1.4664 - val_acc: 0.4976\n",
      "Epoch 29/50\n",
      "50000/50000 [==============================] - 4s 87us/step - loss: 0.8962 - acc: 0.7020 - val_loss: 1.4788 - val_acc: 0.4961\n",
      "Epoch 30/50\n",
      "50000/50000 [==============================] - 4s 86us/step - loss: 0.8771 - acc: 0.7094 - val_loss: 1.4826 - val_acc: 0.4963\n",
      "Epoch 31/50\n",
      "50000/50000 [==============================] - 4s 87us/step - loss: 0.8574 - acc: 0.7184 - val_loss: 1.4827 - val_acc: 0.4954\n",
      "Epoch 32/50\n",
      "50000/50000 [==============================] - 4s 88us/step - loss: 0.8404 - acc: 0.7255 - val_loss: 1.4882 - val_acc: 0.5004\n",
      "Epoch 33/50\n",
      "50000/50000 [==============================] - 4s 87us/step - loss: 0.8189 - acc: 0.7330 - val_loss: 1.4925 - val_acc: 0.5008\n",
      "Epoch 34/50\n",
      "50000/50000 [==============================] - 4s 87us/step - loss: 0.8016 - acc: 0.7395 - val_loss: 1.4911 - val_acc: 0.4993\n",
      "Epoch 35/50\n",
      "50000/50000 [==============================] - 4s 87us/step - loss: 0.7835 - acc: 0.7473 - val_loss: 1.5105 - val_acc: 0.4913\n",
      "Epoch 36/50\n",
      "50000/50000 [==============================] - 4s 87us/step - loss: 0.7637 - acc: 0.7549 - val_loss: 1.5008 - val_acc: 0.4971\n",
      "Epoch 37/50\n",
      "50000/50000 [==============================] - 4s 86us/step - loss: 0.7470 - acc: 0.7617 - val_loss: 1.5204 - val_acc: 0.4951\n",
      "Epoch 38/50\n",
      "50000/50000 [==============================] - 4s 87us/step - loss: 0.7282 - acc: 0.7700 - val_loss: 1.5479 - val_acc: 0.4937\n",
      "Epoch 39/50\n",
      "50000/50000 [==============================] - 4s 88us/step - loss: 0.7095 - acc: 0.7746 - val_loss: 1.5262 - val_acc: 0.5019\n",
      "Epoch 40/50\n",
      "50000/50000 [==============================] - 4s 87us/step - loss: 0.6910 - acc: 0.7836 - val_loss: 1.5479 - val_acc: 0.4961\n",
      "Epoch 41/50\n",
      "50000/50000 [==============================] - 4s 87us/step - loss: 0.6738 - acc: 0.7912 - val_loss: 1.5611 - val_acc: 0.4937\n",
      "Epoch 42/50\n",
      "50000/50000 [==============================] - 4s 86us/step - loss: 0.6555 - acc: 0.7977 - val_loss: 1.5589 - val_acc: 0.4979\n",
      "Epoch 43/50\n",
      "50000/50000 [==============================] - 4s 86us/step - loss: 0.6388 - acc: 0.8041 - val_loss: 1.5771 - val_acc: 0.4923\n",
      "Epoch 44/50\n",
      "50000/50000 [==============================] - 4s 86us/step - loss: 0.6219 - acc: 0.8106 - val_loss: 1.5835 - val_acc: 0.4979\n",
      "Epoch 45/50\n",
      "50000/50000 [==============================] - 4s 86us/step - loss: 0.6046 - acc: 0.8172 - val_loss: 1.6172 - val_acc: 0.4931\n",
      "Epoch 46/50\n",
      "50000/50000 [==============================] - 4s 87us/step - loss: 0.5873 - acc: 0.8259 - val_loss: 1.6190 - val_acc: 0.4900\n",
      "Epoch 47/50\n",
      "50000/50000 [==============================] - 4s 86us/step - loss: 0.5707 - acc: 0.8321 - val_loss: 1.6373 - val_acc: 0.4870\n",
      "Epoch 48/50\n",
      "50000/50000 [==============================] - 4s 86us/step - loss: 0.5523 - acc: 0.8396 - val_loss: 1.6308 - val_acc: 0.4944\n",
      "Epoch 49/50\n",
      "50000/50000 [==============================] - 4s 86us/step - loss: 0.5380 - acc: 0.8426 - val_loss: 1.6501 - val_acc: 0.4894\n"
     ]
    },
    {
     "name": "stdout",
     "output_type": "stream",
     "text": [
      "Epoch 50/50\n",
      "50000/50000 [==============================] - 4s 86us/step - loss: 0.5211 - acc: 0.8508 - val_loss: 1.6768 - val_acc: 0.4887\n"
     ]
    },
    {
     "data": {
      "text/plain": [
       "<keras.callbacks.History at 0x1a5241560f0>"
      ]
     },
     "execution_count": 21,
     "metadata": {},
     "output_type": "execute_result"
    }
   ],
   "source": [
    "model = build_mlp(input_shape=x_train.shape[1:])\n",
    "model.summary()\n",
    "optimizer = keras.optimizers.SGD(lr=LEARNING_RATE, nesterov=True, momentum=MOMENTUM)\n",
    "model.compile(loss=\"categorical_crossentropy\", metrics=[\"accuracy\"], optimizer=optimizer)\n",
    "\n",
    "model.fit(x_train, y_train, \n",
    "          epochs=EPOCHS, \n",
    "          batch_size=BATCH_SIZE, \n",
    "          validation_data=(x_test, y_test), \n",
    "          shuffle=True,\n",
    "          callbacks=[model_ckpt]\n",
    "         )"
   ]
  },
  {
   "cell_type": "code",
   "execution_count": 22,
   "metadata": {},
   "outputs": [
    {
     "name": "stdout",
     "output_type": "stream",
     "text": [
      "10000/10000 [==============================] - 1s 121us/step\n"
     ]
    }
   ],
   "source": [
    "# Load back\n",
    "model = keras.models.load_model(\"./checkpoint_weights_only.h5\")\n",
    "loss_loadback, acc_loadback = model.evaluate(x_test, y_test)"
   ]
  },
  {
   "cell_type": "code",
   "execution_count": 23,
   "metadata": {
    "scrolled": true
   },
   "outputs": [
    {
     "data": {
      "image/png": "[encoded data removed]",
      "text/plain": [
       "<Figure size 432x288 with 1 Axes>"
      ]
     },
     "metadata": {
      "needs_background": "light"
     },
     "output_type": "display_data"
    },
    {
     "data": {
      "image/png": "[encoded data removed]",
      "text/plain": [
       "<Figure size 432x288 with 1 Axes>"
      ]
     },
     "metadata": {
      "needs_background": "light"
     },
     "output_type": "display_data"
    }
   ],
   "source": [
    "import matplotlib.pyplot as plt\n",
    "%matplotlib inline\n",
    "\"\"\"Code Here\n",
    "將結果繪出\n",
    "\"\"\"\n",
    "import matplotlib.pyplot as plt\n",
    "%matplotlib inline\n",
    "\n",
    "plt.plot(range(len(train_loss)), train_loss, label=\"train loss\")\n",
    "plt.plot(range(len(valid_loss)), valid_loss, label=\"valid loss\")\n",
    "plt.hlines(y=loss_loadback, xmin=0, xmax=len(train_loss), colors='r', linestyles='--')\n",
    "plt.legend()\n",
    "plt.title(\"Loss\")\n",
    "plt.show()\n",
    "\n",
    "plt.plot(range(len(train_acc)), train_acc, label=\"train accuracy\")\n",
    "plt.plot(range(len(valid_acc)), valid_acc, label=\"valid accuracy\")\n",
    "plt.hlines(y=acc_loadback, xmin=0, xmax=len(train_loss), colors='r', linestyles='--')\n",
    "plt.legend()\n",
    "plt.title(\"Accuracy\")\n",
    "plt.show()"
   ]
  },
  {
   "cell_type": "code",
   "execution_count": 24,
   "metadata": {},
   "outputs": [
    {
     "data": {
      "text/plain": [
       "1.4417575201034545"
      ]
     },
     "execution_count": 24,
     "metadata": {},
     "output_type": "execute_result"
    }
   ],
   "source": [
    "loss_loadback"
   ]
  },
  {
   "cell_type": "code",
   "execution_count": null,
   "metadata": {},
   "outputs": [],
   "source": []
  }
 ],
 "metadata": {
  "kernelspec": {
   "display_name": "Python 3",
   "language": "python",
   "name": "python3"
  },
  "language_info": {
   "codemirror_mode": {
    "name": "ipython",
    "version": 3
   },
   "file_extension": ".py",
   "mimetype": "text/x-python",
   "name": "python",
   "nbconvert_exporter": "python",
   "pygments_lexer": "ipython3",
   "version": "3.7.3"
  }
 },
 "nbformat": 4,
 "nbformat_minor": 2
}
