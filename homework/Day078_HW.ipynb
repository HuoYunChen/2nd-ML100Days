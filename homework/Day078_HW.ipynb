{
 "cells": [
  {
   "cell_type": "markdown",
   "metadata": {},
   "source": [
    "## Work\n",
    "1. 請嘗試將 preproc_x 替換成以每筆資料的 min/max 進行標準化至 -1 ~ 1 間，再進行訓練\n",
    "2. 請嘗試將 mlp 疊更深 (e.g 5~10 層)，進行訓練後觀察 learning curve 的走勢\n",
    "3. (optional) 請改用 GPU 進行訓練 (如果你有 GPU 的話)，比較使用 CPU 與 GPU 的訓練速度"
   ]
  },
  {
   "cell_type": "code",
   "execution_count": 2,
   "metadata": {},
   "outputs": [
    {
     "data": {
      "text/plain": [
       "'\\nYour code here (optional)\\n確認硬體資源\\n'"
      ]
     },
     "execution_count": 2,
     "metadata": {},
     "output_type": "execute_result"
    }
   ],
   "source": [
    "## \n",
    "\"\"\"\n",
    "Your code here (optional)\n",
    "確認硬體資源\n",
    "\"\"\"\n",
    "nvidia-smi.exe -l"
   ]
  },
  {
   "cell_type": "code",
   "execution_count": 3,
   "metadata": {},
   "outputs": [
    {
     "name": "stderr",
     "output_type": "stream",
     "text": [
      "Using TensorFlow backend.\n"
     ]
    }
   ],
   "source": [
    "import os\n",
    "import keras\n",
    "\n",
    "# 請嘗試設定 GPU：os.environ\n",
    "os.environ[\"CUDA_VISIBLE_DEVICES\"] = \"\""
   ]
  },
  {
   "cell_type": "code",
   "execution_count": 4,
   "metadata": {},
   "outputs": [],
   "source": [
    "train, test = keras.datasets.cifar10.load_data()"
   ]
  },
  {
   "cell_type": "code",
   "execution_count": 19,
   "metadata": {},
   "outputs": [
    {
     "data": {
      "text/plain": [
       "(50000, 32, 32, 3)"
      ]
     },
     "execution_count": 19,
     "metadata": {},
     "output_type": "execute_result"
    }
   ],
   "source": [
    "x_train.shape"
   ]
  },
  {
   "cell_type": "code",
   "execution_count": 26,
   "metadata": {},
   "outputs": [],
   "source": [
    "## 資料前處理\n",
    "\"\"\"\n",
    "Your code here\n",
    "\"\"\"\n",
    "from sklearn.preprocessing import MinMaxScaler\n",
    "\n",
    "def preproc_x(x, flatten=True):\n",
    "    x = x.reshape(len(x), -1)\n",
    "    x = MinMaxScaler(feature_range=(-1, 1)).fit_transform(x)    \n",
    "    return x\n",
    "\n",
    "def preproc_y(y, num_class=10):\n",
    "    if y.shape[-1] == 1:\n",
    "        y = keras.utils.to_categorical(y, num_class)\n",
    "    return y"
   ]
  },
  {
   "cell_type": "code",
   "execution_count": 27,
   "metadata": {},
   "outputs": [
    {
     "name": "stderr",
     "output_type": "stream",
     "text": [
      "C:\\Users\\user1\\Anaconda3\\lib\\site-packages\\sklearn\\utils\\validation.py:595: DataConversionWarning: Data with input dtype uint8 was converted to float64 by MinMaxScaler.\n",
      "  warnings.warn(msg, DataConversionWarning)\n",
      "C:\\Users\\user1\\Anaconda3\\lib\\site-packages\\sklearn\\utils\\validation.py:595: DataConversionWarning: Data with input dtype uint8 was converted to float64 by MinMaxScaler.\n",
      "  warnings.warn(msg, DataConversionWarning)\n"
     ]
    }
   ],
   "source": [
    "x_train, y_train = train\n",
    "x_test, y_test = test\n",
    "\n",
    "# Preproc the inputs\n",
    "x_train = preproc_x(x_train)\n",
    "x_test = preproc_x(x_test)\n",
    "\n",
    "# Preprc the outputs\n",
    "y_train = preproc_y(y_train)\n",
    "y_test = preproc_y(y_test)"
   ]
  },
  {
   "cell_type": "code",
   "execution_count": 34,
   "metadata": {},
   "outputs": [
    {
     "data": {
      "text/plain": [
       "(3072,)"
      ]
     },
     "execution_count": 34,
     "metadata": {},
     "output_type": "execute_result"
    }
   ],
   "source": [
    "x_train.shape[1:]"
   ]
  },
  {
   "cell_type": "code",
   "execution_count": 42,
   "metadata": {},
   "outputs": [
    {
     "name": "stdout",
     "output_type": "stream",
     "text": [
      "_________________________________________________________________\n",
      "Layer (type)                 Output Shape              Param #   \n",
      "=================================================================\n",
      "input_10 (InputLayer)        (None, 3072)              0         \n",
      "_________________________________________________________________\n",
      "hidden_layer1 (Dense)        (None, 128)               393344    \n",
      "_________________________________________________________________\n",
      "hidden_layer2 (Dense)        (None, 256)               33024     \n",
      "_________________________________________________________________\n",
      "hidden_layer3 (Dense)        (None, 512)               131584    \n",
      "_________________________________________________________________\n",
      "hidden_layer4 (Dense)        (None, 64)                32832     \n",
      "_________________________________________________________________\n",
      "hidden_layer5 (Dense)        (None, 32)                2080      \n",
      "_________________________________________________________________\n",
      "output (Dense)               (None, 10)                330       \n",
      "=================================================================\n",
      "Total params: 593,194\n",
      "Trainable params: 593,194\n",
      "Non-trainable params: 0\n",
      "_________________________________________________________________\n"
     ]
    }
   ],
   "source": [
    "\"\"\"Code Here\n",
    "建立你的神經網路\n",
    "\"\"\"\n",
    "def build_mlp(input_shape, output_units = 10, num_neurons=[128,256,512]):\n",
    "    input_layer = keras.layers.Input(input_shape)\n",
    "    \n",
    "    for i, n_units in enumerate(num_neurons):\n",
    "        if i == 0:\n",
    "            x = keras.layers.Dense(units = n_units, activation='relu', name = \"hidden_layer\"+str(i+1))(input_layer)\n",
    "        else:\n",
    "            x = keras.layers.Dense(units = n_units, activation='relu', name = \"hidden_layer\"+str(i+1))(x)\n",
    "    \n",
    "    out = keras.layers.Dense(units = output_units, activation='softmax', name='output')(x)\n",
    "    \n",
    "    model = keras.models.Model(inputs=[input_layer],outputs = [out])\n",
    "    return model\n",
    "model = build_mlp(input_shape=x_train.shape[1:], num_neurons=[128,256,512,64,32])\n",
    "model.summary()"
   ]
  },
  {
   "cell_type": "code",
   "execution_count": 43,
   "metadata": {},
   "outputs": [],
   "source": [
    "## 超參數設定\n",
    "LEARNING_RATE = 0.001\n",
    "EPOCHS = 100\n",
    "BATCH_SIZE = 256"
   ]
  },
  {
   "cell_type": "code",
   "execution_count": 44,
   "metadata": {},
   "outputs": [
    {
     "name": "stderr",
     "output_type": "stream",
     "text": [
      "W0716 00:02:45.096261 23784 deprecation_wrapper.py:119] From C:\\Users\\user1\\Anaconda3\\lib\\site-packages\\keras\\optimizers.py:790: The name tf.train.Optimizer is deprecated. Please use tf.compat.v1.train.Optimizer instead.\n",
      "\n",
      "W0716 00:02:45.105264 23784 deprecation_wrapper.py:119] From C:\\Users\\user1\\Anaconda3\\lib\\site-packages\\keras\\backend\\tensorflow_backend.py:3295: The name tf.log is deprecated. Please use tf.math.log instead.\n",
      "\n"
     ]
    }
   ],
   "source": [
    "optimizer = keras.optimizers.Adam(lr=LEARNING_RATE)\n",
    "model.compile(loss=\"categorical_crossentropy\", metrics=[\"accuracy\"], optimizer=optimizer)"
   ]
  },
  {
   "cell_type": "code",
   "execution_count": 45,
   "metadata": {},
   "outputs": [
    {
     "name": "stderr",
     "output_type": "stream",
     "text": [
      "W0716 00:02:45.811490 23784 deprecation.py:323] From C:\\Users\\user1\\Anaconda3\\lib\\site-packages\\tensorflow\\python\\ops\\math_grad.py:1250: add_dispatch_support.<locals>.wrapper (from tensorflow.python.ops.array_ops) is deprecated and will be removed in a future version.\n",
      "Instructions for updating:\n",
      "Use tf.where in 2.0, which has the same broadcast rule as np.where\n",
      "W0716 00:02:45.885492 23784 deprecation_wrapper.py:119] From C:\\Users\\user1\\Anaconda3\\lib\\site-packages\\keras\\backend\\tensorflow_backend.py:986: The name tf.assign_add is deprecated. Please use tf.compat.v1.assign_add instead.\n",
      "\n"
     ]
    },
    {
     "name": "stdout",
     "output_type": "stream",
     "text": [
      "Train on 50000 samples, validate on 10000 samples\n",
      "Epoch 1/100\n",
      "50000/50000 [==============================] - 5s 103us/step - loss: 1.7099 - acc: 0.3913 - val_loss: 1.5648 - val_acc: 0.4442\n",
      "Epoch 2/100\n",
      "50000/50000 [==============================] - 5s 92us/step - loss: 1.4657 - acc: 0.4851 - val_loss: 1.4309 - val_acc: 0.4950\n",
      "Epoch 3/100\n",
      "50000/50000 [==============================] - 4s 89us/step - loss: 1.3522 - acc: 0.5221 - val_loss: 1.3885 - val_acc: 0.5180\n",
      "Epoch 4/100\n",
      "50000/50000 [==============================] - 4s 88us/step - loss: 1.2544 - acc: 0.5549 - val_loss: 1.4007 - val_acc: 0.5066\n",
      "Epoch 5/100\n",
      "50000/50000 [==============================] - 4s 88us/step - loss: 1.1804 - acc: 0.5815 - val_loss: 1.3482 - val_acc: 0.5279\n",
      "Epoch 6/100\n",
      "50000/50000 [==============================] - 4s 87us/step - loss: 1.1108 - acc: 0.6067 - val_loss: 1.3361 - val_acc: 0.5303\n",
      "Epoch 7/100\n",
      "50000/50000 [==============================] - 4s 88us/step - loss: 1.0387 - acc: 0.6319 - val_loss: 1.3577 - val_acc: 0.5364\n",
      "Epoch 8/100\n",
      "50000/50000 [==============================] - 4s 88us/step - loss: 0.9676 - acc: 0.6547 - val_loss: 1.3939 - val_acc: 0.5282\n",
      "Epoch 9/100\n",
      "50000/50000 [==============================] - 4s 89us/step - loss: 0.9087 - acc: 0.6779 - val_loss: 1.4317 - val_acc: 0.5273\n",
      "Epoch 10/100\n",
      "50000/50000 [==============================] - 5s 92us/step - loss: 0.8297 - acc: 0.7035 - val_loss: 1.4658 - val_acc: 0.5279\n",
      "Epoch 11/100\n",
      "50000/50000 [==============================] - 4s 89us/step - loss: 0.7710 - acc: 0.7259 - val_loss: 1.4995 - val_acc: 0.5321\n",
      "Epoch 12/100\n",
      "50000/50000 [==============================] - 4s 90us/step - loss: 0.7017 - acc: 0.7497 - val_loss: 1.6047 - val_acc: 0.5177\n",
      "Epoch 13/100\n",
      "50000/50000 [==============================] - 5s 96us/step - loss: 0.6440 - acc: 0.7704 - val_loss: 1.6968 - val_acc: 0.5186\n",
      "Epoch 14/100\n",
      "50000/50000 [==============================] - 5s 95us/step - loss: 0.5910 - acc: 0.7905 - val_loss: 1.7426 - val_acc: 0.5154\n",
      "Epoch 15/100\n",
      "50000/50000 [==============================] - 5s 96us/step - loss: 0.5223 - acc: 0.8155 - val_loss: 1.8670 - val_acc: 0.5215\n",
      "Epoch 16/100\n",
      "50000/50000 [==============================] - 5s 93us/step - loss: 0.4749 - acc: 0.8306 - val_loss: 1.9303 - val_acc: 0.5209\n",
      "Epoch 17/100\n",
      "50000/50000 [==============================] - 5s 90us/step - loss: 0.4353 - acc: 0.8443 - val_loss: 2.0304 - val_acc: 0.5164\n",
      "Epoch 18/100\n",
      "50000/50000 [==============================] - 4s 90us/step - loss: 0.3828 - acc: 0.8644 - val_loss: 2.2409 - val_acc: 0.5090\n",
      "Epoch 19/100\n",
      "50000/50000 [==============================] - 4s 90us/step - loss: 0.3533 - acc: 0.8751 - val_loss: 2.3325 - val_acc: 0.5089\n",
      "Epoch 20/100\n",
      "50000/50000 [==============================] - 4s 90us/step - loss: 0.3277 - acc: 0.8843 - val_loss: 2.4206 - val_acc: 0.5118\n",
      "Epoch 21/100\n",
      "50000/50000 [==============================] - 5s 90us/step - loss: 0.2878 - acc: 0.8970 - val_loss: 2.6018 - val_acc: 0.5183\n",
      "Epoch 22/100\n",
      "50000/50000 [==============================] - 4s 90us/step - loss: 0.2780 - acc: 0.9020 - val_loss: 2.6827 - val_acc: 0.5137\n",
      "Epoch 23/100\n",
      "50000/50000 [==============================] - 5s 90us/step - loss: 0.2578 - acc: 0.9099 - val_loss: 2.7521 - val_acc: 0.5085\n",
      "Epoch 24/100\n",
      "50000/50000 [==============================] - 5s 91us/step - loss: 0.2342 - acc: 0.9186 - val_loss: 2.8339 - val_acc: 0.5122\n",
      "Epoch 25/100\n",
      "50000/50000 [==============================] - 4s 90us/step - loss: 0.2072 - acc: 0.9267 - val_loss: 2.9863 - val_acc: 0.5060\n",
      "Epoch 26/100\n",
      "50000/50000 [==============================] - 5s 92us/step - loss: 0.2081 - acc: 0.9277 - val_loss: 3.0306 - val_acc: 0.5066\n",
      "Epoch 27/100\n",
      "50000/50000 [==============================] - 5s 92us/step - loss: 0.2191 - acc: 0.9238 - val_loss: 3.0216 - val_acc: 0.5066\n",
      "Epoch 28/100\n",
      "50000/50000 [==============================] - 5s 92us/step - loss: 0.1835 - acc: 0.9351 - val_loss: 3.1803 - val_acc: 0.5115\n",
      "Epoch 29/100\n",
      "50000/50000 [==============================] - 5s 95us/step - loss: 0.1819 - acc: 0.9363 - val_loss: 3.2020 - val_acc: 0.5122\n",
      "Epoch 30/100\n",
      "50000/50000 [==============================] - 5s 95us/step - loss: 0.1706 - acc: 0.9410 - val_loss: 3.3227 - val_acc: 0.5094\n",
      "Epoch 31/100\n",
      "50000/50000 [==============================] - 4s 90us/step - loss: 0.1622 - acc: 0.9426 - val_loss: 3.3868 - val_acc: 0.5045\n",
      "Epoch 32/100\n",
      "50000/50000 [==============================] - 4s 89us/step - loss: 0.1792 - acc: 0.9378 - val_loss: 3.3095 - val_acc: 0.5088\n",
      "Epoch 33/100\n",
      "50000/50000 [==============================] - 5s 94us/step - loss: 0.1314 - acc: 0.9553 - val_loss: 3.3968 - val_acc: 0.5049\n",
      "Epoch 34/100\n",
      "50000/50000 [==============================] - 5s 93us/step - loss: 0.1582 - acc: 0.9451 - val_loss: 3.4637 - val_acc: 0.5045\n",
      "Epoch 35/100\n",
      "50000/50000 [==============================] - 5s 91us/step - loss: 0.1484 - acc: 0.9489 - val_loss: 3.5247 - val_acc: 0.5106\n",
      "Epoch 36/100\n",
      "50000/50000 [==============================] - 5s 91us/step - loss: 0.1464 - acc: 0.9507 - val_loss: 3.5076 - val_acc: 0.5080\n",
      "Epoch 37/100\n",
      "50000/50000 [==============================] - 5s 92us/step - loss: 0.1318 - acc: 0.9547 - val_loss: 3.6284 - val_acc: 0.5146\n",
      "Epoch 38/100\n",
      "50000/50000 [==============================] - 5s 91us/step - loss: 0.1093 - acc: 0.9634 - val_loss: 3.7177 - val_acc: 0.5059\n",
      "Epoch 39/100\n",
      "50000/50000 [==============================] - 5s 92us/step - loss: 0.1385 - acc: 0.9541 - val_loss: 3.6980 - val_acc: 0.5010\n",
      "Epoch 40/100\n",
      "50000/50000 [==============================] - 5s 93us/step - loss: 0.1358 - acc: 0.9531 - val_loss: 3.7249 - val_acc: 0.5060\n",
      "Epoch 41/100\n",
      "50000/50000 [==============================] - 5s 92us/step - loss: 0.1146 - acc: 0.9617 - val_loss: 3.8063 - val_acc: 0.5106\n",
      "Epoch 42/100\n",
      "50000/50000 [==============================] - 5s 92us/step - loss: 0.1430 - acc: 0.9519 - val_loss: 3.7642 - val_acc: 0.5012\n",
      "Epoch 43/100\n",
      "50000/50000 [==============================] - 5s 92us/step - loss: 0.1251 - acc: 0.9574 - val_loss: 3.7338 - val_acc: 0.4965\n",
      "Epoch 44/100\n",
      "50000/50000 [==============================] - 5s 93us/step - loss: 0.1192 - acc: 0.9603 - val_loss: 3.7965 - val_acc: 0.5102\n",
      "Epoch 45/100\n",
      "50000/50000 [==============================] - 5s 92us/step - loss: 0.1069 - acc: 0.9637 - val_loss: 3.8368 - val_acc: 0.5024\n",
      "Epoch 46/100\n",
      "50000/50000 [==============================] - 5s 93us/step - loss: 0.1172 - acc: 0.9606 - val_loss: 3.8152 - val_acc: 0.5024\n",
      "Epoch 47/100\n",
      "50000/50000 [==============================] - 5s 94us/step - loss: 0.1198 - acc: 0.9604 - val_loss: 3.8428 - val_acc: 0.5062\n",
      "Epoch 48/100\n",
      "50000/50000 [==============================] - 5s 94us/step - loss: 0.1138 - acc: 0.9624 - val_loss: 3.8063 - val_acc: 0.5134\n",
      "Epoch 49/100\n",
      "50000/50000 [==============================] - 5s 92us/step - loss: 0.0825 - acc: 0.9723 - val_loss: 3.9233 - val_acc: 0.5159\n",
      "Epoch 50/100\n",
      "50000/50000 [==============================] - 5s 90us/step - loss: 0.0913 - acc: 0.9694 - val_loss: 4.0053 - val_acc: 0.5066\n",
      "Epoch 51/100\n",
      "50000/50000 [==============================] - 4s 89us/step - loss: 0.1131 - acc: 0.9618 - val_loss: 3.9764 - val_acc: 0.5065\n",
      "Epoch 52/100\n",
      "50000/50000 [==============================] - 5s 91us/step - loss: 0.1252 - acc: 0.9594 - val_loss: 3.9777 - val_acc: 0.5038\n",
      "Epoch 53/100\n",
      "50000/50000 [==============================] - 4s 90us/step - loss: 0.0868 - acc: 0.9715 - val_loss: 3.9956 - val_acc: 0.5104\n",
      "Epoch 54/100\n",
      "50000/50000 [==============================] - 5s 90us/step - loss: 0.1028 - acc: 0.9653 - val_loss: 4.0744 - val_acc: 0.4988\n",
      "Epoch 55/100\n",
      "50000/50000 [==============================] - 5s 90us/step - loss: 0.1082 - acc: 0.9638 - val_loss: 3.9578 - val_acc: 0.5111\n",
      "Epoch 56/100\n",
      "50000/50000 [==============================] - 5s 91us/step - loss: 0.1003 - acc: 0.9665 - val_loss: 4.0593 - val_acc: 0.4997\n",
      "Epoch 57/100\n",
      "50000/50000 [==============================] - 4s 90us/step - loss: 0.1110 - acc: 0.9647 - val_loss: 3.9628 - val_acc: 0.5105\n",
      "Epoch 58/100\n",
      "50000/50000 [==============================] - 5s 90us/step - loss: 0.0833 - acc: 0.9726 - val_loss: 4.1340 - val_acc: 0.5146\n",
      "Epoch 59/100\n"
     ]
    },
    {
     "name": "stdout",
     "output_type": "stream",
     "text": [
      "50000/50000 [==============================] - 4s 89us/step - loss: 0.0885 - acc: 0.9710 - val_loss: 4.1466 - val_acc: 0.5088\n",
      "Epoch 60/100\n",
      "50000/50000 [==============================] - 4s 90us/step - loss: 0.1068 - acc: 0.9650 - val_loss: 4.1143 - val_acc: 0.5069\n",
      "Epoch 61/100\n",
      "50000/50000 [==============================] - 4s 87us/step - loss: 0.0936 - acc: 0.9685 - val_loss: 4.1300 - val_acc: 0.5007\n",
      "Epoch 62/100\n",
      "50000/50000 [==============================] - 4s 87us/step - loss: 0.0782 - acc: 0.9739 - val_loss: 4.1774 - val_acc: 0.5042\n",
      "Epoch 63/100\n",
      "50000/50000 [==============================] - 4s 87us/step - loss: 0.0902 - acc: 0.9696 - val_loss: 4.1016 - val_acc: 0.5121\n",
      "Epoch 64/100\n",
      "50000/50000 [==============================] - 4s 87us/step - loss: 0.0818 - acc: 0.9738 - val_loss: 4.2475 - val_acc: 0.5081\n",
      "Epoch 65/100\n",
      "50000/50000 [==============================] - 4s 87us/step - loss: 0.0944 - acc: 0.9688 - val_loss: 4.1831 - val_acc: 0.5112\n",
      "Epoch 66/100\n",
      "50000/50000 [==============================] - 4s 87us/step - loss: 0.0891 - acc: 0.9716 - val_loss: 4.1590 - val_acc: 0.5112\n",
      "Epoch 67/100\n",
      "50000/50000 [==============================] - 4s 86us/step - loss: 0.0672 - acc: 0.9779 - val_loss: 4.2673 - val_acc: 0.5108\n",
      "Epoch 68/100\n",
      "50000/50000 [==============================] - 4s 89us/step - loss: 0.0742 - acc: 0.9768 - val_loss: 4.2171 - val_acc: 0.5053\n",
      "Epoch 69/100\n",
      "50000/50000 [==============================] - 4s 88us/step - loss: 0.0957 - acc: 0.9688 - val_loss: 4.2376 - val_acc: 0.5030\n",
      "Epoch 70/100\n",
      "50000/50000 [==============================] - 4s 87us/step - loss: 0.0897 - acc: 0.9711 - val_loss: 4.2223 - val_acc: 0.5025\n",
      "Epoch 71/100\n",
      "50000/50000 [==============================] - 4s 85us/step - loss: 0.1071 - acc: 0.9651 - val_loss: 4.1518 - val_acc: 0.5069\n",
      "Epoch 72/100\n",
      "50000/50000 [==============================] - 4s 88us/step - loss: 0.0922 - acc: 0.9697 - val_loss: 4.1185 - val_acc: 0.5115\n",
      "Epoch 73/100\n",
      "50000/50000 [==============================] - 4s 88us/step - loss: 0.0612 - acc: 0.9797 - val_loss: 4.1692 - val_acc: 0.5157\n",
      "Epoch 74/100\n",
      "50000/50000 [==============================] - 4s 88us/step - loss: 0.0542 - acc: 0.9823 - val_loss: 4.2367 - val_acc: 0.5086\n",
      "Epoch 75/100\n",
      "50000/50000 [==============================] - 4s 88us/step - loss: 0.0822 - acc: 0.9745 - val_loss: 4.1961 - val_acc: 0.5077\n",
      "Epoch 76/100\n",
      "50000/50000 [==============================] - 4s 89us/step - loss: 0.0949 - acc: 0.9690 - val_loss: 4.2141 - val_acc: 0.5108\n",
      "Epoch 77/100\n",
      "50000/50000 [==============================] - 4s 89us/step - loss: 0.0864 - acc: 0.9719 - val_loss: 4.2625 - val_acc: 0.5097\n",
      "Epoch 78/100\n",
      "50000/50000 [==============================] - 4s 88us/step - loss: 0.0838 - acc: 0.9738 - val_loss: 4.2923 - val_acc: 0.5069\n",
      "Epoch 79/100\n",
      "50000/50000 [==============================] - 4s 90us/step - loss: 0.0726 - acc: 0.9770 - val_loss: 4.2390 - val_acc: 0.5158\n",
      "Epoch 80/100\n",
      "50000/50000 [==============================] - 4s 89us/step - loss: 0.0431 - acc: 0.9859 - val_loss: 4.3790 - val_acc: 0.5153\n",
      "Epoch 81/100\n",
      "50000/50000 [==============================] - 4s 89us/step - loss: 0.0690 - acc: 0.9773 - val_loss: 4.2973 - val_acc: 0.5068\n",
      "Epoch 82/100\n",
      "50000/50000 [==============================] - 5s 96us/step - loss: 0.0977 - acc: 0.9700 - val_loss: 4.2690 - val_acc: 0.5130\n",
      "Epoch 83/100\n",
      "50000/50000 [==============================] - 5s 91us/step - loss: 0.0749 - acc: 0.9755 - val_loss: 4.3318 - val_acc: 0.5048\n",
      "Epoch 84/100\n",
      "50000/50000 [==============================] - 5s 94us/step - loss: 0.0640 - acc: 0.9788 - val_loss: 4.3559 - val_acc: 0.5083\n",
      "Epoch 85/100\n",
      "50000/50000 [==============================] - 5s 94us/step - loss: 0.0784 - acc: 0.9744 - val_loss: 4.3385 - val_acc: 0.5080\n",
      "Epoch 86/100\n",
      "50000/50000 [==============================] - 4s 89us/step - loss: 0.0897 - acc: 0.9714 - val_loss: 4.3407 - val_acc: 0.4970\n",
      "Epoch 87/100\n",
      "50000/50000 [==============================] - 5s 95us/step - loss: 0.0617 - acc: 0.9797 - val_loss: 4.4082 - val_acc: 0.5104\n",
      "Epoch 88/100\n",
      "50000/50000 [==============================] - 4s 88us/step - loss: 0.0731 - acc: 0.9766 - val_loss: 4.3641 - val_acc: 0.5111\n",
      "Epoch 89/100\n",
      "50000/50000 [==============================] - 5s 90us/step - loss: 0.0686 - acc: 0.9777 - val_loss: 4.4045 - val_acc: 0.5071\n",
      "Epoch 90/100\n",
      "50000/50000 [==============================] - 4s 89us/step - loss: 0.0541 - acc: 0.9817 - val_loss: 4.3765 - val_acc: 0.5066\n",
      "Epoch 91/100\n",
      "50000/50000 [==============================] - 5s 90us/step - loss: 0.0507 - acc: 0.9833 - val_loss: 4.5308 - val_acc: 0.5075\n",
      "Epoch 92/100\n",
      "50000/50000 [==============================] - 4s 90us/step - loss: 0.0890 - acc: 0.9722 - val_loss: 4.3176 - val_acc: 0.5001\n",
      "Epoch 93/100\n",
      "50000/50000 [==============================] - 5s 92us/step - loss: 0.0638 - acc: 0.9793 - val_loss: 4.3663 - val_acc: 0.5034\n",
      "Epoch 94/100\n",
      "50000/50000 [==============================] - 5s 90us/step - loss: 0.0760 - acc: 0.9757 - val_loss: 4.3400 - val_acc: 0.5043\n",
      "Epoch 95/100\n",
      "50000/50000 [==============================] - 4s 89us/step - loss: 0.0636 - acc: 0.9795 - val_loss: 4.3784 - val_acc: 0.5066\n",
      "Epoch 96/100\n",
      "50000/50000 [==============================] - 4s 89us/step - loss: 0.0718 - acc: 0.9766 - val_loss: 4.4160 - val_acc: 0.5045\n",
      "Epoch 97/100\n",
      "50000/50000 [==============================] - 5s 91us/step - loss: 0.0580 - acc: 0.9815 - val_loss: 4.4367 - val_acc: 0.5097\n",
      "Epoch 98/100\n",
      "50000/50000 [==============================] - 5s 91us/step - loss: 0.0640 - acc: 0.9796 - val_loss: 4.5147 - val_acc: 0.5014\n",
      "Epoch 99/100\n",
      "50000/50000 [==============================] - 4s 89us/step - loss: 0.0670 - acc: 0.9789 - val_loss: 4.5177 - val_acc: 0.5092\n",
      "Epoch 100/100\n",
      "50000/50000 [==============================] - 5s 90us/step - loss: 0.0743 - acc: 0.9762 - val_loss: 4.4836 - val_acc: 0.5066\n"
     ]
    },
    {
     "data": {
      "text/plain": [
       "<keras.callbacks.History at 0x1e201d8f470>"
      ]
     },
     "execution_count": 45,
     "metadata": {},
     "output_type": "execute_result"
    }
   ],
   "source": [
    "model.fit(x_train, y_train, \n",
    "          epochs=EPOCHS, \n",
    "          batch_size=BATCH_SIZE, \n",
    "          validation_data=(x_test, y_test), \n",
    "          shuffle=True)"
   ]
  },
  {
   "cell_type": "code",
   "execution_count": 47,
   "metadata": {},
   "outputs": [
    {
     "data": {
      "image/png": "[encoded data removed]",
      "text/plain": [
       "<Figure size 432x288 with 1 Axes>"
      ]
     },
     "metadata": {
      "needs_background": "light"
     },
     "output_type": "display_data"
    },
    {
     "data": {
      "image/png": "[encoded data removed]",
      "text/plain": [
       "<Figure size 432x288 with 1 Axes>"
      ]
     },
     "metadata": {
      "needs_background": "light"
     },
     "output_type": "display_data"
    }
   ],
   "source": [
    "import matplotlib.pyplot as plt\n",
    "\n",
    "\n",
    "train_loss = model.history.history[\"loss\"]\n",
    "valid_loss = model.history.history[\"val_loss\"]\n",
    "\n",
    "train_acc = model.history.history[\"acc\"]\n",
    "valid_acc = model.history.history[\"val_acc\"]\n",
    "\n",
    "plt.plot(range(len(train_loss)), train_loss, label=\"train loss\")\n",
    "plt.plot(range(len(valid_loss)), valid_loss, label=\"valid loss\")\n",
    "plt.legend()\n",
    "plt.title(\"Loss\")\n",
    "plt.show()\n",
    "\n",
    "plt.plot(range(len(train_acc)), train_acc, label=\"train accuracy\")\n",
    "plt.plot(range(len(valid_acc)), valid_acc, label=\"valid accuracy\")\n",
    "plt.legend()\n",
    "plt.title(\"Accuracy\")\n",
    "plt.show()"
   ]
  },
  {
   "cell_type": "code",
   "execution_count": null,
   "metadata": {},
   "outputs": [],
   "source": []
  }
 ],
 "metadata": {
  "kernelspec": {
   "display_name": "Python 3",
   "language": "python",
   "name": "python3"
  },
  "language_info": {
   "codemirror_mode": {
    "name": "ipython",
    "version": 3
   },
   "file_extension": ".py",
   "mimetype": "text/x-python",
   "name": "python",
   "nbconvert_exporter": "python",
   "pygments_lexer": "ipython3",
   "version": "3.7.3"
  }
 },
 "nbformat": 4,
 "nbformat_minor": 2
}
