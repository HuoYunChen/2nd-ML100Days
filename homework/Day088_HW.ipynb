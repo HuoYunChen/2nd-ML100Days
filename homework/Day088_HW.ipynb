{
 "cells": [
  {
   "cell_type": "markdown",
   "metadata": {},
   "source": [
    "## Work\n",
    "1. 請嘗試寫一個 callback 用來記錄各類別在訓練過程中，對驗證集的 True Positive 與 True Negative"
   ]
  },
  {
   "cell_type": "code",
   "execution_count": 1,
   "metadata": {},
   "outputs": [
    {
     "name": "stderr",
     "output_type": "stream",
     "text": [
      "Using TensorFlow backend.\n"
     ]
    }
   ],
   "source": [
    "import os\n",
    "import keras\n",
    "\n",
    "# Disable GPU\n",
    "os.environ[\"CUDA_VISIBLE_DEVICES\"] = \"\""
   ]
  },
  {
   "cell_type": "code",
   "execution_count": 2,
   "metadata": {},
   "outputs": [],
   "source": [
    "train, test = keras.datasets.cifar10.load_data()"
   ]
  },
  {
   "cell_type": "code",
   "execution_count": 3,
   "metadata": {},
   "outputs": [],
   "source": [
    "## 資料前處理\n",
    "def preproc_x(x, flatten=True):\n",
    "    x = x / 255.\n",
    "    if flatten:\n",
    "        x = x.reshape((len(x), -1))\n",
    "    return x\n",
    "\n",
    "def preproc_y(y, num_classes=10):\n",
    "    if y.shape[-1] == 1:\n",
    "        y = keras.utils.to_categorical(y, num_classes)\n",
    "    return y    "
   ]
  },
  {
   "cell_type": "code",
   "execution_count": 4,
   "metadata": {},
   "outputs": [],
   "source": [
    "x_train, y_train = train\n",
    "x_test, y_test = test\n",
    "\n",
    "# Preproc the inputs\n",
    "x_train = preproc_x(x_train)\n",
    "x_test = preproc_x(x_test)\n",
    "\n",
    "# Preprc the outputs\n",
    "y_train = preproc_y(y_train)\n",
    "y_test = preproc_y(y_test)"
   ]
  },
  {
   "cell_type": "code",
   "execution_count": 6,
   "metadata": {},
   "outputs": [],
   "source": [
    "from keras.layers import BatchNormalization\n",
    "def build_mlp(input_shape, output_units=10, num_neurons=[256, 256, 256]):\n",
    "    \"\"\"Code Here\n",
    "    建立你的神經網路\n",
    "    \"\"\"\n",
    "    input_layer = keras.layers.Input(input_shape)\n",
    "    \n",
    "    for i, n_units in enumerate(num_neurons):\n",
    "        if i == 0:\n",
    "            x = keras.layers.Dense(units=n_units, \n",
    "                                   activation=\"relu\", \n",
    "                                   name=\"hidden_layer\"+str(i+1))(input_layer)\n",
    "            x = BatchNormalization()(x)\n",
    "        else:\n",
    "            x = keras.layers.Dense(units=n_units, \n",
    "                                   activation=\"relu\", \n",
    "                                   name=\"hidden_layer\"+str(i+1))(x)\n",
    "            x = BatchNormalization()(x)\n",
    "    \n",
    "    out = keras.layers.Dense(units=output_units, activation=\"softmax\", name=\"output\")(x)\n",
    "    \n",
    "    model = keras.models.Model(inputs=[input_layer], outputs=[out])\n",
    "    return model"
   ]
  },
  {
   "cell_type": "code",
   "execution_count": 8,
   "metadata": {},
   "outputs": [],
   "source": [
    "## 超參數設定\n",
    "LEARNING_RATE = 1e-3\n",
    "EPOCHS = 25\n",
    "BATCH_SIZE = 1024\n",
    "MOMENTUM = 0.95"
   ]
  },
  {
   "cell_type": "code",
   "execution_count": 12,
   "metadata": {},
   "outputs": [],
   "source": [
    "# 載入 Callbacks\n",
    "from keras.callbacks import Callback\n",
    "from sklearn.metrics import confusion_matrix\n",
    "\n",
    "# Record_fp_tp\n",
    "class Record_tp_tn(Callback):\n",
    "    \"\"\"Code Here\n",
    "    撰寫一個紀錄 ture positive 與 true negative 數量的 callbacks    \n",
    "    \"\"\"\n",
    "    def on_train_begin(self, epochs, logs={}):\n",
    "        logs = logs or {}\n",
    "        record_items ={'true_postive', 'true_negative'}\n",
    "        for i in record_items:\n",
    "            if i not in self.params['metrics']:\n",
    "                self.params['metrics'].append(i)\n",
    "    def on_epoch_end(self, epochs, logs={}, thres=0.5):\n",
    "        logs = logs or {}\n",
    "        y_pred = self.model.predict(self.validation_data[0])\n",
    "        y_pred = (y_pred[:,1] >= thres) * 1\n",
    "        y_true = self.validation_data[1].argmax(axis = 1) ##因為有one-Hot Encoding所以要找出是1的那個索引\n",
    "\n",
    "        matrix = confusion_matrix(y_true, y_pred)\n",
    "        logs['true_postive']= matrix[0][0]\n",
    "        logs['true_negative']= matrix[1][1]\n",
    "        \n",
    "rec_tptn = Record_tp_tn()"
   ]
  },
  {
   "cell_type": "code",
   "execution_count": 13,
   "metadata": {
    "scrolled": true
   },
   "outputs": [
    {
     "name": "stdout",
     "output_type": "stream",
     "text": [
      "_________________________________________________________________\n",
      "Layer (type)                 Output Shape              Param #   \n",
      "=================================================================\n",
      "input_2 (InputLayer)         (None, 3072)              0         \n",
      "_________________________________________________________________\n",
      "hidden_layer1 (Dense)        (None, 256)               786688    \n",
      "_________________________________________________________________\n",
      "batch_normalization_4 (Batch (None, 256)               1024      \n",
      "_________________________________________________________________\n",
      "hidden_layer2 (Dense)        (None, 256)               65792     \n",
      "_________________________________________________________________\n",
      "batch_normalization_5 (Batch (None, 256)               1024      \n",
      "_________________________________________________________________\n",
      "hidden_layer3 (Dense)        (None, 256)               65792     \n",
      "_________________________________________________________________\n",
      "batch_normalization_6 (Batch (None, 256)               1024      \n",
      "_________________________________________________________________\n",
      "output (Dense)               (None, 10)                2570      \n",
      "=================================================================\n",
      "Total params: 923,914\n",
      "Trainable params: 922,378\n",
      "Non-trainable params: 1,536\n",
      "_________________________________________________________________\n",
      "Train on 50000 samples, validate on 10000 samples\n",
      "Epoch 1/25\n",
      "50000/50000 [==============================] - 4s 88us/step - loss: 2.2441 - acc: 0.2617 - val_loss: 2.1557 - val_acc: 0.3145\n",
      "Epoch 2/25\n",
      "50000/50000 [==============================] - 4s 73us/step - loss: 1.7693 - acc: 0.3790 - val_loss: 1.8362 - val_acc: 0.3688\n",
      "Epoch 3/25\n",
      "50000/50000 [==============================] - 4s 70us/step - loss: 1.6407 - acc: 0.4221 - val_loss: 1.7192 - val_acc: 0.4039\n",
      "Epoch 4/25\n",
      "50000/50000 [==============================] - 4s 72us/step - loss: 1.5693 - acc: 0.4462 - val_loss: 1.6528 - val_acc: 0.4217\n",
      "Epoch 5/25\n",
      "50000/50000 [==============================] - 3s 70us/step - loss: 1.5138 - acc: 0.4679 - val_loss: 1.6218 - val_acc: 0.4331\n",
      "Epoch 6/25\n",
      "50000/50000 [==============================] - 4s 70us/step - loss: 1.4706 - acc: 0.4821 - val_loss: 1.5753 - val_acc: 0.4466\n",
      "Epoch 7/25\n",
      "50000/50000 [==============================] - 4s 71us/step - loss: 1.4311 - acc: 0.4965 - val_loss: 1.5532 - val_acc: 0.4497\n",
      "Epoch 8/25\n",
      "50000/50000 [==============================] - 4s 71us/step - loss: 1.3974 - acc: 0.5091 - val_loss: 1.5352 - val_acc: 0.4519\n",
      "Epoch 9/25\n",
      "50000/50000 [==============================] - 4s 70us/step - loss: 1.3683 - acc: 0.5192 - val_loss: 1.5275 - val_acc: 0.4592\n",
      "Epoch 10/25\n",
      "50000/50000 [==============================] - 4s 70us/step - loss: 1.3424 - acc: 0.5302 - val_loss: 1.4998 - val_acc: 0.4634\n",
      "Epoch 11/25\n",
      "50000/50000 [==============================] - 3s 70us/step - loss: 1.3154 - acc: 0.5393 - val_loss: 1.5030 - val_acc: 0.4645\n",
      "Epoch 12/25\n",
      "50000/50000 [==============================] - 4s 70us/step - loss: 1.2914 - acc: 0.5490 - val_loss: 1.4848 - val_acc: 0.4759\n",
      "Epoch 13/25\n",
      "50000/50000 [==============================] - 4s 71us/step - loss: 1.2675 - acc: 0.5585 - val_loss: 1.4825 - val_acc: 0.4766\n",
      "Epoch 14/25\n",
      "50000/50000 [==============================] - 4s 71us/step - loss: 1.2467 - acc: 0.5660 - val_loss: 1.4737 - val_acc: 0.4771\n",
      "Epoch 15/25\n",
      "50000/50000 [==============================] - 4s 71us/step - loss: 1.2256 - acc: 0.5749 - val_loss: 1.4748 - val_acc: 0.4800\n",
      "Epoch 16/25\n",
      "50000/50000 [==============================] - 3s 69us/step - loss: 1.2059 - acc: 0.5816 - val_loss: 1.4611 - val_acc: 0.4857\n",
      "Epoch 17/25\n",
      "50000/50000 [==============================] - 4s 71us/step - loss: 1.1858 - acc: 0.5887 - val_loss: 1.4645 - val_acc: 0.4867\n",
      "Epoch 18/25\n",
      "50000/50000 [==============================] - 3s 70us/step - loss: 1.1670 - acc: 0.5949 - val_loss: 1.4792 - val_acc: 0.4831\n",
      "Epoch 19/25\n",
      "50000/50000 [==============================] - 4s 70us/step - loss: 1.1487 - acc: 0.6019 - val_loss: 1.4597 - val_acc: 0.4849\n",
      "Epoch 20/25\n",
      "50000/50000 [==============================] - 4s 71us/step - loss: 1.1282 - acc: 0.6090 - val_loss: 1.4584 - val_acc: 0.4871\n",
      "Epoch 21/25\n",
      "50000/50000 [==============================] - 4s 70us/step - loss: 1.1122 - acc: 0.6156 - val_loss: 1.4562 - val_acc: 0.4872\n",
      "Epoch 22/25\n",
      "50000/50000 [==============================] - 3s 70us/step - loss: 1.0936 - acc: 0.6221 - val_loss: 1.4648 - val_acc: 0.4923\n",
      "Epoch 23/25\n",
      "50000/50000 [==============================] - 4s 72us/step - loss: 1.0761 - acc: 0.6299 - val_loss: 1.4593 - val_acc: 0.4892\n",
      "Epoch 24/25\n",
      "50000/50000 [==============================] - 4s 70us/step - loss: 1.0605 - acc: 0.6347 - val_loss: 1.4604 - val_acc: 0.4973\n",
      "Epoch 25/25\n",
      "50000/50000 [==============================] - 3s 69us/step - loss: 1.0415 - acc: 0.6430 - val_loss: 1.4548 - val_acc: 0.4934\n"
     ]
    }
   ],
   "source": [
    "model = build_mlp(input_shape=x_train.shape[1:])\n",
    "model.summary()\n",
    "optimizer = keras.optimizers.SGD(lr=LEARNING_RATE, nesterov=True, momentum=MOMENTUM)\n",
    "model.compile(loss=\"categorical_crossentropy\", metrics=[\"accuracy\"], optimizer=optimizer)\n",
    "\n",
    "\"\"\"Code Here\n",
    "將 callbacks 放入模型訓練流程中\n",
    "\"\"\"\n",
    "model.fit(x_train, y_train,\n",
    "          epochs=EPOCHS, \n",
    "          batch_size=BATCH_SIZE, \n",
    "          validation_data=(x_test, y_test), \n",
    "          shuffle=True, callbacks=[rec_tptn])\n",
    "\n",
    "# Collect results\n",
    "train_loss = model.history.history[\"loss\"]\n",
    "valid_loss = model.history.history[\"val_loss\"]\n",
    "train_acc = model.history.history[\"acc\"]\n",
    "valid_acc = model.history.history[\"val_acc\"]\n",
    "\n",
    "\"\"\"Code Here\n",
    "將 tp/tn 從訓練完的模型中取出\n",
    "\"\"\"\n",
    "valid_tp = model.history.history['true_postive']\n",
    "valid_tn = model.history.history['true_negative']"
   ]
  },
  {
   "cell_type": "code",
   "execution_count": 14,
   "metadata": {},
   "outputs": [
    {
     "data": {
      "image/png": "[encoded data removed]",
      "text/plain": [
       "<Figure size 432x288 with 1 Axes>"
      ]
     },
     "metadata": {
      "needs_background": "light"
     },
     "output_type": "display_data"
    },
    {
     "data": {
      "image/png": "[encoded data removed]",
      "text/plain": [
       "<Figure size 432x288 with 1 Axes>"
      ]
     },
     "metadata": {
      "needs_background": "light"
     },
     "output_type": "display_data"
    },
    {
     "data": {
      "image/png": "[encoded data removed]",
      "text/plain": [
       "<Figure size 432x288 with 1 Axes>"
      ]
     },
     "metadata": {
      "needs_background": "light"
     },
     "output_type": "display_data"
    }
   ],
   "source": [
    "import matplotlib.pyplot as plt\n",
    "%matplotlib inline\n",
    "\n",
    "plt.plot(range(len(train_loss)), train_loss, label=\"train loss\")\n",
    "plt.plot(range(len(valid_loss)), valid_loss, label=\"valid loss\")\n",
    "plt.legend()\n",
    "plt.title(\"Loss\")\n",
    "plt.show()\n",
    "\n",
    "plt.plot(range(len(train_acc)), train_acc, label=\"train accuracy\")\n",
    "plt.plot(range(len(valid_acc)), valid_acc, label=\"valid accuracy\")\n",
    "plt.legend()\n",
    "plt.title(\"Accuracy\")\n",
    "plt.show()\n",
    "\n",
    "plt.plot(range(len(valid_tp)), valid_tp, label=\"valid tp\", color=\"navy\")\n",
    "plt.plot(range(len(valid_tn)), valid_tn, label=\"valid tn\", color=\"red\")\n",
    "plt.legend()\n",
    "plt.title(\"True positives and True Negatives\")\n",
    "plt.show()\n"
   ]
  },
  {
   "cell_type": "code",
   "execution_count": 15,
   "metadata": {},
   "outputs": [
    {
     "data": {
      "text/plain": [
       "[996,\n",
       " 991,\n",
       " 989,\n",
       " 990,\n",
       " 994,\n",
       " 990,\n",
       " 996,\n",
       " 993,\n",
       " 993,\n",
       " 990,\n",
       " 993,\n",
       " 986,\n",
       " 993,\n",
       " 990,\n",
       " 982,\n",
       " 989,\n",
       " 984,\n",
       " 989,\n",
       " 984,\n",
       " 987,\n",
       " 989,\n",
       " 983,\n",
       " 984,\n",
       " 983,\n",
       " 983]"
      ]
     },
     "execution_count": 15,
     "metadata": {},
     "output_type": "execute_result"
    }
   ],
   "source": [
    "valid_tp"
   ]
  },
  {
   "cell_type": "code",
   "execution_count": null,
   "metadata": {},
   "outputs": [],
   "source": []
  }
 ],
 "metadata": {
  "kernelspec": {
   "display_name": "Python 3",
   "language": "python",
   "name": "python3"
  },
  "language_info": {
   "codemirror_mode": {
    "name": "ipython",
    "version": 3
   },
   "file_extension": ".py",
   "mimetype": "text/x-python",
   "name": "python",
   "nbconvert_exporter": "python",
   "pygments_lexer": "ipython3",
   "version": "3.7.3"
  }
 },
 "nbformat": 4,
 "nbformat_minor": 2
}
